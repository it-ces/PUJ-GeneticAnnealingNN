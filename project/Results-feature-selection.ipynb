{
  "cells": [
    {
      "cell_type": "markdown",
      "metadata": {
        "id": "view-in-github",
        "colab_type": "text"
      },
      "source": [
        "<a href=\"https://colab.research.google.com/github/it-ces/PUJ-GeneticAnnealingNN/blob/main/project/Results-feature-selection.ipynb\" target=\"_parent\"><img src=\"https://colab.research.google.com/assets/colab-badge.svg\" alt=\"Open In Colab\"/></a>"
      ]
    },
    {
      "cell_type": "code",
      "source": [
        "!git clone https://github.com/it-ces/PUJ-GeneticAnnealingNN.git"
      ],
      "metadata": {
        "id": "27eE0Abjr3Bz",
        "outputId": "7dfb50bc-66fc-43a6-fe6a-ce5e3e45d277",
        "colab": {
          "base_uri": "https://localhost:8080/"
        }
      },
      "execution_count": 1,
      "outputs": [
        {
          "output_type": "stream",
          "name": "stdout",
          "text": [
            "Cloning into 'PUJ-GeneticAnnealingNN'...\n",
            "remote: Enumerating objects: 101, done.\u001b[K\n",
            "remote: Counting objects: 100% (101/101), done.\u001b[K\n",
            "remote: Compressing objects: 100% (92/92), done.\u001b[K\n",
            "remote: Total 101 (delta 48), reused 41 (delta 8), pack-reused 0 (from 0)\u001b[K\n",
            "Receiving objects: 100% (101/101), 3.69 MiB | 7.89 MiB/s, done.\n",
            "Resolving deltas: 100% (48/48), done.\n"
          ]
        }
      ]
    },
    {
      "cell_type": "code",
      "source": [
        "!pip install deap"
      ],
      "metadata": {
        "id": "TLQ4wW8ZdmtT",
        "outputId": "f6cc5a84-bb08-4e70-a87f-43d2ea77f731",
        "colab": {
          "base_uri": "https://localhost:8080/"
        }
      },
      "execution_count": 2,
      "outputs": [
        {
          "output_type": "stream",
          "name": "stdout",
          "text": [
            "Collecting deap\n",
            "  Downloading deap-1.4.3-cp311-cp311-manylinux_2_5_x86_64.manylinux1_x86_64.manylinux_2_17_x86_64.manylinux2014_x86_64.whl.metadata (13 kB)\n",
            "Requirement already satisfied: numpy in /usr/local/lib/python3.11/dist-packages (from deap) (2.0.2)\n",
            "Downloading deap-1.4.3-cp311-cp311-manylinux_2_5_x86_64.manylinux1_x86_64.manylinux_2_17_x86_64.manylinux2014_x86_64.whl (135 kB)\n",
            "\u001b[2K   \u001b[90m━━━━━━━━━━━━━━━━━━━━━━━━━━━━━━━━━━━━━━━━\u001b[0m \u001b[32m135.6/135.6 kB\u001b[0m \u001b[31m2.9 MB/s\u001b[0m eta \u001b[36m0:00:00\u001b[0m\n",
            "\u001b[?25hInstalling collected packages: deap\n",
            "Successfully installed deap-1.4.3\n"
          ]
        }
      ]
    },
    {
      "cell_type": "code",
      "source": [
        "cd PUJ-GeneticAnnealingNN/project"
      ],
      "metadata": {
        "id": "Pxtc4vGtr4uZ",
        "outputId": "ae72c06c-5f0d-4887-ee9e-50b09d8a6c58",
        "colab": {
          "base_uri": "https://localhost:8080/"
        }
      },
      "execution_count": 3,
      "outputs": [
        {
          "output_type": "stream",
          "name": "stdout",
          "text": [
            "/content/PUJ-GeneticAnnealingNN/project\n"
          ]
        }
      ]
    },
    {
      "cell_type": "code",
      "execution_count": 4,
      "metadata": {
        "id": "_Pters4lrvVl",
        "outputId": "da49b2f5-883c-4047-af22-10146a1561f7",
        "colab": {
          "base_uri": "https://localhost:8080/"
        }
      },
      "outputs": [
        {
          "output_type": "stream",
          "name": "stdout",
          "text": [
            "<class 'pandas.core.frame.DataFrame'>\n",
            "Index: 771 entries, 4 to 26499\n",
            "Data columns (total 12 columns):\n",
            " #   Column                              Non-Null Count  Dtype  \n",
            "---  ------                              --------------  -----  \n",
            " 0   Ganancia bruta                      353 non-null    float64\n",
            " 1   Ganancia (pérdida)                  353 non-null    float64\n",
            " 2   Ingresos de actividades ordinarias  353 non-null    float64\n",
            " 3   Costo de ventas                     330 non-null    float64\n",
            " 4   Patrimonio total                    353 non-null    float64\n",
            " 5   Total pasivos                       353 non-null    float64\n",
            " 6   Total de activos                    353 non-null    float64\n",
            " 7   Ganancias acumuladas                351 non-null    float64\n",
            " 8   Pasivos corrientes totales          352 non-null    float64\n",
            " 9   Activos corrientes totales          353 non-null    float64\n",
            " 10  event                               771 non-null    float64\n",
            " 11  Sector                              771 non-null    object \n",
            "dtypes: float64(11), object(1)\n",
            "memory usage: 78.3+ KB\n",
            "None\n",
            "<class 'pandas.core.frame.DataFrame'>\n",
            "Index: 328 entries, 4 to 14903\n",
            "Data columns (total 13 columns):\n",
            " #   Column                              Non-Null Count  Dtype  \n",
            "---  ------                              --------------  -----  \n",
            " 0   Ganancia bruta                      328 non-null    float64\n",
            " 1   Ganancia (pérdida)                  328 non-null    float64\n",
            " 2   Ingresos de actividades ordinarias  328 non-null    float64\n",
            " 3   Costo de ventas                     328 non-null    float64\n",
            " 4   Patrimonio total                    328 non-null    float64\n",
            " 5   Total pasivos                       328 non-null    float64\n",
            " 6   Total de activos                    328 non-null    float64\n",
            " 7   Ganancias acumuladas                328 non-null    float64\n",
            " 8   Pasivos corrientes totales          328 non-null    float64\n",
            " 9   Activos corrientes totales          328 non-null    float64\n",
            " 10  event                               328 non-null    float64\n",
            " 11  Sector                              328 non-null    object \n",
            " 12  complete-vars                       328 non-null    float64\n",
            "dtypes: float64(12), object(1)\n",
            "memory usage: 35.9+ KB\n",
            "None\n",
            "<class 'pandas.core.frame.DataFrame'>\n",
            "Index: 328 entries, 4 to 14903\n",
            "Data columns (total 23 columns):\n",
            " #   Column                              Non-Null Count  Dtype  \n",
            "---  ------                              --------------  -----  \n",
            " 0   Ganancia bruta                      328 non-null    float64\n",
            " 1   Ganancia (pérdida)                  328 non-null    float64\n",
            " 2   Ingresos de actividades ordinarias  328 non-null    float64\n",
            " 3   Costo de ventas                     328 non-null    float64\n",
            " 4   Patrimonio total                    328 non-null    float64\n",
            " 5   Total pasivos                       328 non-null    float64\n",
            " 6   Total de activos                    328 non-null    float64\n",
            " 7   Ganancias acumuladas                328 non-null    float64\n",
            " 8   Pasivos corrientes totales          328 non-null    float64\n",
            " 9   Activos corrientes totales          328 non-null    float64\n",
            " 10  event                               328 non-null    float64\n",
            " 11  Sector                              328 non-null    object \n",
            " 12  complete-vars                       328 non-null    float64\n",
            " 13  DER                                 328 non-null    float64\n",
            " 14  CR                                  328 non-null    float64\n",
            " 15  GPM                                 320 non-null    float64\n",
            " 16  NPM                                 326 non-null    float64\n",
            " 17  ROE                                 328 non-null    float64\n",
            " 18  ROA                                 328 non-null    float64\n",
            " 19  IR                                  328 non-null    float64\n",
            " 20  RSL                                 327 non-null    float64\n",
            " 21  Ax1                                 328 non-null    float64\n",
            " 22  Ax2                                 328 non-null    float64\n",
            "dtypes: float64(22), object(1)\n",
            "memory usage: 61.5+ KB\n",
            "None\n"
          ]
        },
        {
          "output_type": "stream",
          "name": "stderr",
          "text": [
            "<ipython-input-4-dc126eb85cbe>:29: SettingWithCopyWarning: \n",
            "A value is trying to be set on a copy of a slice from a DataFrame.\n",
            "Try using .loc[row_indexer,col_indexer] = value instead\n",
            "\n",
            "See the caveats in the documentation: https://pandas.pydata.org/pandas-docs/stable/user_guide/indexing.html#returning-a-view-versus-a-copy\n",
            "  df_train['complete-vars'] = complete_vars(df_train) #1 is that have all variables!\n",
            "/usr/local/lib/python3.11/dist-packages/scipy/stats/_axis_nan_policy.py:586: UserWarning: scipy.stats.shapiro: For N > 5000, computed p-value may not be accurate. Current N is 16800.\n",
            "  res = hypotest_fun_out(*samples, **kwds)\n"
          ]
        },
        {
          "output_type": "stream",
          "name": "stdout",
          "text": [
            "GPM\n",
            "NPM\n",
            "ROE\n",
            "ROA\n",
            "IR\n",
            "DER\n",
            "RSL\n",
            "CR\n",
            "Ax1\n",
            "Ax2\n"
          ]
        }
      ],
      "source": [
        "# Results feature selection\n",
        "import pandas as pd\n",
        "import numpy as np\n",
        "from sklearn.model_selection import train_test_split\n",
        "from sklearn.linear_model import LogisticRegression\n",
        "from preprocessing import complete_vars\n",
        "from preprocessing import ratios\n",
        "from preprocessing import breakdown_vars\n",
        "from preprocessing import dummies_ohe\n",
        "from preprocessing import Xy\n",
        "from preprocessing import std_z\n",
        "from imblearn.under_sampling import RandomUnderSampler\n",
        "from Genfet import Geafet\n",
        "from gentools import PerformanceTest\n",
        "from gentools import get_names\n",
        "from ineq import Theil\n",
        "from gentools import PerformanceTest\n",
        "from gentools import get_names\n",
        "\n",
        "df_train = pd.read_csv(\"Datapooled.csv\")\n",
        "\n",
        "VARS = ['Ganancia bruta', 'Ganancia (pérdida)','Ingresos de actividades ordinarias' , 'Costo de ventas', 'Patrimonio total',\n",
        "     'Total pasivos', 'Total de activos', 'Ganancias acumuladas',  'Pasivos corrientes totales',  'Activos corrientes totales']\n",
        "\n",
        "df_train.rename(columns={'Clasificación Industrial Internacional Uniforme Versión 4 A.C':'Sector'}, inplace=True)\n",
        "\n",
        "df_train = df_train[VARS+[ 'event', 'Sector']]\n",
        "print(df_train[df_train['event']==1].info())\n",
        "df_train['complete-vars'] = complete_vars(df_train) #1 is that have all variables!\n",
        "df_train =  df_train[df_train['complete-vars']==1] #filtering firms that have not financial information\n",
        "print(df_train[df_train['event']==1].info())\n",
        "df_train = ratios(df_train)\n",
        "predictors =[ 'GPM', 'NPM', 'ROE','ROA', 'IR', 'DER', 'RSL', 'CR', 'Ax1', 'Ax2', 'Sector']\n",
        "print(df_train[df_train['event']==1].info())\n",
        "df_train.replace([np.inf,-np.inf], np.nan, inplace=True)\n",
        "df_train.dropna(inplace=True)\n",
        "df_train.drop(columns=['complete-vars'], inplace=True)\n",
        "df_train = df_train[predictors + ['event']].copy()\n",
        "df_exp = df_train.copy()\n",
        "X, y = Xy(df_train, 'event')\n",
        "cat, binaries, nonormal, normal  = breakdown_vars(X)\n",
        "nums = nonormal + normal\n",
        "X = dummies_ohe(X, cat)\n",
        "X_train, X_test, y_train, y_test = train_test_split(X, y, test_size=0.2, shuffle = True, random_state = 666, stratify=y)\n",
        "rus = RandomUnderSampler(random_state=123)\n",
        "X_train, y_train = rus.fit_resample(X_train, y_train)\n",
        "from preprocessing import standardize_X_test\n",
        "X_test = standardize_X_test(X_train, X_test) # Apply the mean and std of X_test with info from X_train\n",
        "X_train = std_z(nonormal + normal, X_train)"
      ]
    },
    {
      "cell_type": "code",
      "source": [
        "X_test.isnull().sum()"
      ],
      "metadata": {
        "colab": {
          "base_uri": "https://localhost:8080/",
          "height": 993
        },
        "id": "86Jcoc8E2pBg",
        "outputId": "178e1845-8784-4ce0-f72e-8bff50e30881"
      },
      "execution_count": 5,
      "outputs": [
        {
          "output_type": "execute_result",
          "data": {
            "text/plain": [
              "GPM         0\n",
              "NPM         0\n",
              "ROE         0\n",
              "ROA         0\n",
              "IR          0\n",
              "DER         0\n",
              "RSL         0\n",
              "CR          0\n",
              "Ax1         0\n",
              "Ax2         0\n",
              "Sector_B    0\n",
              "Sector_C    0\n",
              "Sector_D    0\n",
              "Sector_E    0\n",
              "Sector_F    0\n",
              "Sector_G    0\n",
              "Sector_H    0\n",
              "Sector_I    0\n",
              "Sector_J    0\n",
              "Sector_K    0\n",
              "Sector_L    0\n",
              "Sector_M    0\n",
              "Sector_N    0\n",
              "Sector_O    0\n",
              "Sector_P    0\n",
              "Sector_Q    0\n",
              "Sector_R    0\n",
              "Sector_S    0\n",
              "Sector_U    0\n",
              "dtype: int64"
            ],
            "text/html": [
              "<div>\n",
              "<style scoped>\n",
              "    .dataframe tbody tr th:only-of-type {\n",
              "        vertical-align: middle;\n",
              "    }\n",
              "\n",
              "    .dataframe tbody tr th {\n",
              "        vertical-align: top;\n",
              "    }\n",
              "\n",
              "    .dataframe thead th {\n",
              "        text-align: right;\n",
              "    }\n",
              "</style>\n",
              "<table border=\"1\" class=\"dataframe\">\n",
              "  <thead>\n",
              "    <tr style=\"text-align: right;\">\n",
              "      <th></th>\n",
              "      <th>0</th>\n",
              "    </tr>\n",
              "  </thead>\n",
              "  <tbody>\n",
              "    <tr>\n",
              "      <th>GPM</th>\n",
              "      <td>0</td>\n",
              "    </tr>\n",
              "    <tr>\n",
              "      <th>NPM</th>\n",
              "      <td>0</td>\n",
              "    </tr>\n",
              "    <tr>\n",
              "      <th>ROE</th>\n",
              "      <td>0</td>\n",
              "    </tr>\n",
              "    <tr>\n",
              "      <th>ROA</th>\n",
              "      <td>0</td>\n",
              "    </tr>\n",
              "    <tr>\n",
              "      <th>IR</th>\n",
              "      <td>0</td>\n",
              "    </tr>\n",
              "    <tr>\n",
              "      <th>DER</th>\n",
              "      <td>0</td>\n",
              "    </tr>\n",
              "    <tr>\n",
              "      <th>RSL</th>\n",
              "      <td>0</td>\n",
              "    </tr>\n",
              "    <tr>\n",
              "      <th>CR</th>\n",
              "      <td>0</td>\n",
              "    </tr>\n",
              "    <tr>\n",
              "      <th>Ax1</th>\n",
              "      <td>0</td>\n",
              "    </tr>\n",
              "    <tr>\n",
              "      <th>Ax2</th>\n",
              "      <td>0</td>\n",
              "    </tr>\n",
              "    <tr>\n",
              "      <th>Sector_B</th>\n",
              "      <td>0</td>\n",
              "    </tr>\n",
              "    <tr>\n",
              "      <th>Sector_C</th>\n",
              "      <td>0</td>\n",
              "    </tr>\n",
              "    <tr>\n",
              "      <th>Sector_D</th>\n",
              "      <td>0</td>\n",
              "    </tr>\n",
              "    <tr>\n",
              "      <th>Sector_E</th>\n",
              "      <td>0</td>\n",
              "    </tr>\n",
              "    <tr>\n",
              "      <th>Sector_F</th>\n",
              "      <td>0</td>\n",
              "    </tr>\n",
              "    <tr>\n",
              "      <th>Sector_G</th>\n",
              "      <td>0</td>\n",
              "    </tr>\n",
              "    <tr>\n",
              "      <th>Sector_H</th>\n",
              "      <td>0</td>\n",
              "    </tr>\n",
              "    <tr>\n",
              "      <th>Sector_I</th>\n",
              "      <td>0</td>\n",
              "    </tr>\n",
              "    <tr>\n",
              "      <th>Sector_J</th>\n",
              "      <td>0</td>\n",
              "    </tr>\n",
              "    <tr>\n",
              "      <th>Sector_K</th>\n",
              "      <td>0</td>\n",
              "    </tr>\n",
              "    <tr>\n",
              "      <th>Sector_L</th>\n",
              "      <td>0</td>\n",
              "    </tr>\n",
              "    <tr>\n",
              "      <th>Sector_M</th>\n",
              "      <td>0</td>\n",
              "    </tr>\n",
              "    <tr>\n",
              "      <th>Sector_N</th>\n",
              "      <td>0</td>\n",
              "    </tr>\n",
              "    <tr>\n",
              "      <th>Sector_O</th>\n",
              "      <td>0</td>\n",
              "    </tr>\n",
              "    <tr>\n",
              "      <th>Sector_P</th>\n",
              "      <td>0</td>\n",
              "    </tr>\n",
              "    <tr>\n",
              "      <th>Sector_Q</th>\n",
              "      <td>0</td>\n",
              "    </tr>\n",
              "    <tr>\n",
              "      <th>Sector_R</th>\n",
              "      <td>0</td>\n",
              "    </tr>\n",
              "    <tr>\n",
              "      <th>Sector_S</th>\n",
              "      <td>0</td>\n",
              "    </tr>\n",
              "    <tr>\n",
              "      <th>Sector_U</th>\n",
              "      <td>0</td>\n",
              "    </tr>\n",
              "  </tbody>\n",
              "</table>\n",
              "</div><br><label><b>dtype:</b> int64</label>"
            ]
          },
          "metadata": {},
          "execution_count": 5
        }
      ]
    },
    {
      "cell_type": "code",
      "execution_count": 11,
      "metadata": {
        "id": "40kLV4tgrvVn",
        "colab": {
          "base_uri": "https://localhost:8080/"
        },
        "outputId": "8181865b-e16a-4a5a-a9b2-7190d190740e"
      },
      "outputs": [
        {
          "output_type": "stream",
          "name": "stdout",
          "text": [
            "0.7121364583290981 9.417244631936717e-05 [1, 0, 1, 0, 1, 0, 1, 1, 0, 1, 0, 0, 0, 1, 1, 1, 1, 0, 0, 1, 1, 0, 0, 1, 0, 1, 0, 1, 0] 0\n",
            "0.720680467741697 0.00010819198741994855 [0, 1, 1, 1, 1, 1, 1, 1, 1, 1, 0, 1, 1, 0, 0, 0, 0, 1, 0, 1, 0, 0, 0, 0, 1, 0, 1, 1, 0] 0\n",
            "0.7225133123511596 2.9212680923510367e-05 [0, 1, 1, 1, 1, 1, 1, 1, 1, 0, 0, 1, 1, 0, 0, 0, 0, 0, 0, 1, 0, 0, 0, 0, 1, 0, 1, 1, 0] 0\n",
            "0.7225830290887666 2.173854513962987e-05 [0, 0, 1, 1, 1, 1, 1, 1, 1, 1, 0, 0, 1, 0, 0, 0, 0, 0, 1, 1, 0, 1, 0, 0, 1, 0, 1, 1, 1] 1\n",
            "0.7227007446783826 1.9025737599209655e-05 [0, 1, 1, 1, 1, 1, 1, 1, 1, 0, 0, 1, 1, 0, 0, 0, 0, 1, 0, 1, 0, 0, 0, 0, 1, 0, 1, 1, 0] 2\n",
            "0.729628950756514 1.5905522704592006e-05 [0, 0, 1, 0, 1, 1, 1, 1, 1, 1, 0, 1, 1, 1, 0, 0, 0, 1, 0, 0, 0, 0, 0, 0, 1, 0, 1, 1, 0] 3\n",
            "0.729628950756514 7.483058037562596e-06 [0, 0, 1, 0, 1, 1, 1, 1, 1, 1, 0, 1, 1, 1, 0, 0, 0, 1, 0, 0, 0, 0, 0, 0, 1, 0, 1, 1, 0] 4\n",
            "0.729628950756514 6.790123900641807e-06 [0, 0, 1, 0, 1, 1, 1, 1, 1, 1, 0, 1, 1, 1, 0, 0, 0, 1, 0, 0, 0, 0, 0, 0, 1, 0, 1, 1, 0] 5\n",
            "0.7309338352566022 4.943473438222425e-06 [0, 0, 1, 0, 1, 1, 1, 1, 1, 1, 0, 1, 1, 1, 0, 0, 0, 1, 0, 0, 0, 0, 0, 0, 0, 0, 1, 0, 0] 6\n",
            "0.7309338352566022 5.9901729941456735e-06 [0, 0, 1, 0, 1, 1, 1, 1, 1, 1, 0, 1, 1, 1, 0, 0, 0, 1, 0, 0, 0, 0, 0, 0, 0, 0, 1, 0, 0] 7\n",
            "0.7303249790448911 3.4880791898765545e-06 [0, 0, 1, 1, 1, 1, 1, 1, 0, 0, 0, 1, 1, 0, 0, 0, 0, 1, 0, 1, 0, 0, 0, 0, 1, 0, 1, 1, 0] 8\n",
            "0.732657596371882 3.2073961831978874e-06 [0, 0, 1, 1, 1, 1, 1, 1, 0, 0, 0, 1, 1, 0, 0, 0, 0, 0, 0, 1, 0, 0, 0, 0, 0, 0, 1, 1, 0] 9\n",
            "0.7327059314258435 4.540669012405896e-06 [0, 0, 1, 1, 1, 1, 1, 1, 0, 0, 0, 1, 1, 0, 0, 0, 0, 1, 0, 1, 0, 0, 0, 1, 1, 0, 1, 0, 0] 10\n",
            "0.732657596371882 4.0925968954059e-06 [0, 0, 1, 1, 1, 1, 1, 1, 0, 0, 0, 1, 1, 0, 0, 0, 0, 0, 0, 1, 0, 0, 0, 0, 0, 0, 1, 1, 0] 11\n",
            "0.732657596371882 1.4267141815775282e-05 [0, 0, 1, 1, 1, 1, 1, 1, 0, 0, 0, 1, 1, 0, 0, 0, 0, 0, 0, 1, 0, 0, 0, 0, 0, 0, 1, 1, 0] 12\n",
            "0.732657596371882 5.186470415372934e-06 [0, 0, 1, 1, 1, 1, 1, 1, 0, 0, 0, 1, 1, 0, 0, 0, 0, 0, 0, 1, 0, 0, 0, 0, 0, 0, 1, 1, 0] 13\n",
            "0.732657596371882 3.0200329192405353e-06 [0, 0, 1, 1, 1, 1, 1, 1, 0, 0, 0, 1, 1, 0, 0, 0, 0, 0, 0, 1, 0, 0, 0, 0, 0, 0, 1, 1, 0] 14\n",
            "0.732657596371882 4.722977157392073e-06 [0, 0, 1, 1, 1, 1, 1, 1, 0, 0, 0, 1, 1, 0, 0, 0, 0, 0, 0, 1, 0, 0, 0, 0, 0, 0, 1, 1, 0] 15\n",
            "0.732657596371882 3.912474904618473e-06 [0, 0, 1, 1, 1, 1, 1, 1, 0, 0, 0, 1, 1, 0, 0, 0, 0, 0, 0, 1, 0, 0, 0, 0, 0, 0, 1, 1, 0] 16\n",
            "0.732657596371882 1.5478109417361927e-05 [0, 0, 1, 1, 1, 1, 1, 1, 0, 0, 0, 1, 1, 0, 0, 0, 0, 0, 0, 1, 0, 0, 0, 0, 0, 0, 1, 1, 0] 17\n",
            "0.732657596371882 4.373048090448711e-05 [0, 0, 1, 1, 1, 1, 1, 1, 0, 0, 0, 1, 1, 0, 0, 0, 0, 0, 0, 1, 0, 0, 0, 0, 0, 0, 1, 1, 0] 18\n",
            "0.732657596371882 2.2583752945265434e-06 [0, 0, 1, 1, 1, 1, 1, 1, 0, 0, 0, 1, 1, 0, 0, 0, 0, 0, 0, 1, 0, 0, 0, 0, 0, 0, 1, 1, 0] 19\n",
            "0.732657596371882 2.840694518332827e-07 [0, 0, 1, 1, 1, 1, 1, 1, 0, 0, 0, 1, 1, 0, 0, 0, 0, 0, 0, 1, 0, 0, 0, 1, 0, 0, 1, 1, 0] 20\n",
            "0.732657596371882 6.498786641790524e-07 [0, 0, 1, 1, 1, 1, 1, 1, 0, 0, 0, 1, 1, 0, 0, 0, 0, 0, 0, 1, 0, 0, 0, 0, 0, 0, 1, 1, 0] 21\n",
            "0.732657596371882 1.7407082460421456e-06 [0, 0, 1, 1, 1, 1, 1, 1, 0, 0, 0, 1, 1, 0, 0, 0, 0, 0, 0, 1, 0, 0, 0, 0, 0, 0, 1, 1, 0] 22\n",
            "0.732657596371882 3.178300108213252e-07 [0, 0, 1, 1, 1, 1, 1, 1, 0, 0, 0, 1, 1, 0, 0, 0, 0, 0, 0, 1, 0, 0, 0, 1, 0, 0, 1, 1, 0] 23\n",
            "0.732657596371882 -2.916526031947065e-17 [0, 0, 1, 1, 1, 1, 1, 1, 0, 0, 0, 1, 1, 0, 0, 0, 0, 0, 0, 1, 0, 0, 0, 1, 0, 0, 1, 1, 0] 24\n"
          ]
        },
        {
          "output_type": "stream",
          "name": "stderr",
          "text": [
            "/usr/local/lib/python3.11/dist-packages/deap/creator.py:185: RuntimeWarning: A class named 'FitnessMax' has already been created and it will be overwritten. Consider deleting previous creation of that class or rename it.\n",
            "  warnings.warn(\"A class named '{0}' has already been created and it \"\n",
            "/usr/local/lib/python3.11/dist-packages/deap/creator.py:185: RuntimeWarning: A class named 'Individual' has already been created and it will be overwritten. Consider deleting previous creation of that class or rename it.\n",
            "  warnings.warn(\"A class named '{0}' has already been created and it \"\n"
          ]
        },
        {
          "output_type": "stream",
          "name": "stdout",
          "text": [
            "0.7121364583290981 9.296204582444218e-05 [1, 0, 1, 0, 1, 0, 1, 1, 0, 1, 0, 0, 0, 1, 1, 1, 1, 0, 0, 1, 1, 0, 0, 1, 0, 1, 0, 1, 0] 0\n",
            "0.720680467741697 0.00010964608385996041 [0, 1, 1, 1, 1, 1, 1, 1, 1, 1, 0, 1, 1, 0, 0, 0, 0, 1, 0, 1, 0, 0, 0, 0, 1, 0, 1, 1, 0] 0\n",
            "0.7225133123511596 2.9212680923510367e-05 [0, 1, 1, 1, 1, 1, 1, 1, 1, 0, 0, 1, 1, 0, 0, 0, 0, 0, 0, 1, 0, 0, 0, 0, 1, 0, 1, 1, 0] 0\n",
            "0.7225830290887666 2.385979416278396e-05 [0, 0, 1, 1, 1, 1, 1, 1, 1, 1, 0, 0, 1, 0, 0, 0, 0, 0, 1, 1, 0, 1, 0, 0, 1, 0, 1, 1, 1] 1\n",
            "0.7227007446783826 1.8495529903930744e-05 [0, 1, 1, 1, 1, 1, 1, 1, 1, 0, 0, 1, 1, 0, 0, 0, 0, 1, 0, 1, 0, 0, 0, 0, 1, 0, 1, 1, 0] 2\n",
            "0.729628950756514 1.864603311594744e-05 [0, 0, 1, 0, 1, 1, 1, 1, 1, 1, 0, 1, 1, 1, 0, 0, 0, 1, 0, 0, 0, 0, 0, 0, 1, 0, 1, 1, 0] 3\n",
            "0.729628950756514 9.770743893989078e-06 [0, 0, 1, 0, 1, 1, 1, 1, 1, 1, 0, 1, 1, 1, 0, 0, 0, 1, 0, 0, 0, 0, 0, 0, 1, 0, 1, 1, 0] 4\n",
            "0.7297670956316955 2.5462345126252204e-05 [1, 0, 1, 0, 1, 1, 1, 1, 1, 1, 0, 1, 1, 1, 0, 0, 0, 1, 0, 1, 0, 0, 0, 0, 1, 0, 0, 1, 1] 5\n",
            "0.7297670956316955 1.091469235416042e-05 [1, 0, 1, 0, 1, 1, 1, 1, 1, 1, 0, 1, 1, 1, 0, 0, 0, 1, 0, 1, 0, 0, 0, 0, 1, 0, 0, 1, 1] 6\n",
            "0.7322905419849566 1.5606406002487312e-05 [1, 0, 1, 0, 1, 1, 1, 1, 1, 1, 0, 1, 1, 1, 0, 0, 0, 1, 0, 0, 0, 0, 0, 0, 1, 0, 1, 1, 0] 7\n",
            "0.7322905419849566 4.799516466297667e-06 [1, 0, 1, 0, 1, 1, 1, 1, 1, 1, 0, 1, 1, 1, 0, 0, 0, 1, 0, 0, 0, 0, 0, 0, 1, 0, 1, 1, 1] 8\n",
            "0.7322905419849566 4.388452355398469e-06 [1, 0, 1, 0, 1, 1, 1, 1, 1, 1, 0, 1, 1, 1, 0, 0, 0, 1, 0, 0, 0, 0, 0, 0, 1, 0, 1, 1, 1] 9\n",
            "0.7322905419849566 7.275656882563779e-07 [1, 0, 1, 0, 1, 1, 1, 1, 1, 1, 0, 1, 1, 1, 0, 0, 0, 1, 0, 0, 0, 0, 0, 0, 1, 0, 1, 1, 1] 10\n",
            "0.7322905419849566 3.024344359594942e-06 [1, 0, 1, 0, 1, 1, 1, 1, 1, 1, 0, 1, 1, 1, 0, 0, 0, 1, 0, 0, 0, 0, 0, 0, 1, 0, 1, 1, 1] 11\n",
            "0.7322905419849566 3.9829567478709424e-05 [1, 0, 1, 0, 1, 1, 1, 1, 1, 1, 0, 1, 1, 1, 0, 0, 0, 1, 0, 0, 0, 0, 0, 0, 1, 0, 1, 1, 1] 12\n",
            "0.7322905419849566 0.0 [1, 0, 1, 0, 1, 1, 1, 1, 1, 1, 0, 1, 1, 1, 0, 0, 0, 1, 0, 0, 0, 0, 0, 0, 1, 0, 1, 1, 1] 13\n"
          ]
        },
        {
          "output_type": "stream",
          "name": "stderr",
          "text": [
            "/usr/local/lib/python3.11/dist-packages/deap/creator.py:185: RuntimeWarning: A class named 'FitnessMax' has already been created and it will be overwritten. Consider deleting previous creation of that class or rename it.\n",
            "  warnings.warn(\"A class named '{0}' has already been created and it \"\n",
            "/usr/local/lib/python3.11/dist-packages/deap/creator.py:185: RuntimeWarning: A class named 'Individual' has already been created and it will be overwritten. Consider deleting previous creation of that class or rename it.\n",
            "  warnings.warn(\"A class named '{0}' has already been created and it \"\n"
          ]
        },
        {
          "output_type": "stream",
          "name": "stdout",
          "text": [
            "0.7132955310810204 0.00015637580002024465 [0, 0, 1, 1, 1, 0, 1, 1, 0, 1, 0, 0, 0, 0, 0, 0, 1, 1, 1, 1, 1, 0, 1, 1, 0, 1, 0, 1, 1] 0\n",
            "0.7302743567830821 6.381660492057839e-05 [1, 0, 1, 1, 1, 0, 1, 0, 0, 0, 0, 1, 0, 0, 0, 0, 1, 1, 0, 1, 1, 1, 0, 1, 1, 0, 0, 1, 1] 0\n",
            "0.7302743567830821 3.075829370180325e-05 [1, 0, 1, 1, 1, 0, 1, 0, 0, 0, 0, 1, 0, 0, 0, 0, 1, 1, 0, 1, 1, 1, 0, 1, 1, 0, 0, 1, 1] 0\n",
            "0.7342981662080582 2.7555531176143028e-05 [0, 0, 1, 1, 1, 0, 1, 1, 0, 0, 0, 1, 0, 0, 0, 0, 1, 0, 0, 1, 1, 0, 0, 1, 1, 0, 0, 1, 1] 1\n",
            "0.7342981662080582 1.4120386326708297e-05 [0, 0, 1, 1, 1, 0, 1, 1, 0, 0, 0, 1, 0, 0, 0, 0, 1, 0, 0, 1, 1, 0, 0, 1, 1, 0, 0, 1, 1] 2\n",
            "0.732120557976465 1.5643936347071492e-05 [0, 0, 1, 1, 1, 1, 1, 1, 0, 1, 0, 1, 0, 0, 0, 0, 0, 1, 0, 1, 1, 0, 0, 1, 0, 1, 1, 1, 1] 3\n",
            "0.732120557976465 8.07408223799724e-06 [0, 0, 1, 1, 1, 1, 1, 1, 0, 1, 0, 1, 0, 0, 0, 0, 0, 1, 0, 1, 1, 0, 0, 1, 0, 1, 1, 1, 1] 4\n",
            "0.7334775926572249 1.0364653751182417e-05 [0, 0, 1, 1, 1, 1, 1, 1, 0, 0, 0, 1, 0, 0, 0, 0, 1, 1, 0, 1, 1, 0, 0, 1, 1, 0, 1, 0, 1] 5\n",
            "0.7360536520945022 5.657079914810695e-06 [0, 0, 1, 1, 1, 1, 1, 1, 0, 0, 0, 1, 0, 0, 0, 0, 0, 1, 0, 1, 1, 0, 0, 1, 0, 1, 1, 0, 1] 6\n",
            "0.7360536520945022 1.7378061322456278e-06 [0, 0, 1, 1, 1, 1, 1, 1, 0, 0, 0, 1, 0, 0, 0, 0, 0, 1, 0, 1, 1, 0, 0, 1, 0, 1, 1, 0, 1] 7\n",
            "0.7360536520945022 2.4943616071952313e-06 [0, 0, 1, 1, 1, 1, 1, 1, 0, 0, 0, 1, 0, 0, 0, 0, 0, 1, 0, 1, 1, 0, 0, 1, 0, 1, 1, 1, 1] 8\n",
            "0.7360536520945022 2.2588131806500794e-06 [0, 0, 1, 1, 1, 1, 1, 1, 0, 0, 0, 1, 0, 0, 0, 0, 0, 1, 0, 1, 1, 0, 0, 1, 0, 1, 1, 1, 0] 9\n",
            "0.7360536520945022 4.667097487183467e-08 [0, 0, 1, 1, 1, 1, 1, 1, 0, 0, 0, 1, 0, 0, 0, 0, 0, 1, 0, 1, 1, 0, 0, 1, 0, 1, 1, 1, 1] 10\n",
            "0.7360536520945022 7.415060857284772e-07 [0, 0, 1, 1, 1, 1, 1, 1, 0, 0, 0, 1, 0, 0, 0, 0, 0, 1, 0, 1, 1, 0, 0, 1, 0, 1, 1, 1, 1] 11\n",
            "0.7360536520945022 2.515403245380413e-05 [0, 0, 1, 1, 1, 1, 1, 1, 0, 0, 0, 1, 0, 0, 0, 0, 0, 1, 0, 1, 1, 0, 0, 1, 0, 1, 1, 0, 1] 12\n",
            "0.7360536520945022 1.5144098013648486e-06 [0, 0, 1, 1, 1, 1, 1, 1, 0, 0, 0, 1, 0, 0, 0, 0, 0, 1, 0, 1, 1, 0, 0, 1, 0, 1, 1, 1, 1] 13\n",
            "0.7360536520945022 1.1871333065975876e-06 [0, 0, 1, 1, 1, 1, 1, 1, 0, 0, 0, 1, 0, 0, 0, 0, 0, 1, 0, 1, 1, 0, 0, 1, 0, 1, 1, 0, 1] 14\n",
            "0.7360536520945022 2.9109147245541256e-06 [0, 0, 1, 1, 1, 1, 1, 1, 0, 0, 0, 1, 0, 0, 0, 0, 1, 1, 0, 1, 1, 0, 0, 1, 0, 1, 1, 0, 1] 15\n",
            "0.7360536520945022 2.287583703592169e-06 [0, 0, 1, 1, 1, 1, 1, 1, 0, 0, 0, 1, 0, 0, 0, 0, 1, 1, 0, 1, 1, 0, 0, 1, 0, 1, 1, 0, 0] 16\n",
            "0.7360536520945022 2.939632833841957e-07 [0, 0, 1, 1, 1, 1, 1, 1, 0, 0, 0, 1, 0, 0, 0, 0, 0, 1, 0, 1, 1, 0, 0, 1, 0, 1, 1, 1, 1] 17\n",
            "0.7360536520945022 2.9060741505386636e-05 [0, 0, 1, 1, 1, 1, 1, 1, 0, 0, 0, 1, 0, 0, 0, 0, 0, 1, 0, 1, 1, 0, 0, 1, 0, 1, 1, 1, 1] 18\n",
            "0.7360536520945022 3.4706743334775076e-07 [0, 0, 1, 1, 1, 1, 1, 1, 0, 0, 0, 1, 0, 0, 0, 0, 1, 1, 0, 1, 1, 0, 0, 1, 0, 1, 1, 0, 1] 19\n",
            "0.7360536520945022 0.0 [0, 0, 1, 1, 1, 1, 1, 1, 0, 0, 0, 1, 0, 0, 0, 0, 0, 1, 0, 1, 1, 0, 0, 1, 0, 1, 1, 0, 1] 20\n"
          ]
        },
        {
          "output_type": "stream",
          "name": "stderr",
          "text": [
            "/usr/local/lib/python3.11/dist-packages/deap/creator.py:185: RuntimeWarning: A class named 'FitnessMax' has already been created and it will be overwritten. Consider deleting previous creation of that class or rename it.\n",
            "  warnings.warn(\"A class named '{0}' has already been created and it \"\n",
            "/usr/local/lib/python3.11/dist-packages/deap/creator.py:185: RuntimeWarning: A class named 'Individual' has already been created and it will be overwritten. Consider deleting previous creation of that class or rename it.\n",
            "  warnings.warn(\"A class named '{0}' has already been created and it \"\n"
          ]
        },
        {
          "output_type": "stream",
          "name": "stdout",
          "text": [
            "0.7132955310810204 0.0001623490323944866 [0, 0, 1, 1, 1, 0, 1, 1, 0, 1, 0, 0, 0, 0, 0, 0, 1, 1, 1, 1, 1, 0, 1, 1, 0, 1, 0, 1, 1] 0\n",
            "0.7302743567830821 6.263332894579379e-05 [1, 0, 1, 1, 1, 0, 1, 0, 0, 0, 0, 1, 0, 0, 0, 0, 1, 1, 0, 1, 1, 1, 0, 1, 1, 0, 0, 1, 1] 0\n",
            "0.7302743567830821 6.252469985960678e-05 [1, 0, 1, 1, 1, 0, 1, 0, 0, 0, 0, 1, 0, 0, 0, 0, 1, 1, 0, 1, 1, 1, 0, 1, 1, 0, 0, 1, 1] 0\n",
            "0.7342981662080582 2.7539502776746246e-05 [0, 0, 1, 1, 1, 0, 1, 1, 0, 0, 0, 1, 0, 0, 0, 0, 1, 0, 0, 1, 1, 0, 0, 1, 1, 0, 0, 1, 1] 1\n",
            "0.7342981662080582 1.3425534098039037e-05 [0, 0, 1, 1, 1, 0, 1, 1, 0, 0, 0, 1, 0, 0, 0, 0, 1, 0, 0, 1, 1, 0, 0, 1, 1, 0, 0, 1, 1] 2\n",
            "0.7330114426408627 1.263874055819281e-05 [0, 0, 1, 1, 1, 0, 1, 1, 0, 0, 1, 1, 0, 0, 0, 0, 1, 1, 0, 1, 1, 0, 0, 1, 1, 0, 0, 1, 1] 3\n",
            "0.7324905890423794 1.762504038947784e-05 [0, 0, 1, 1, 1, 1, 1, 1, 0, 0, 0, 1, 0, 0, 0, 0, 0, 1, 0, 1, 1, 1, 0, 1, 1, 0, 0, 0, 1] 4\n",
            "0.7349312028912669 9.443057368822459e-06 [0, 0, 1, 1, 1, 1, 1, 1, 0, 0, 0, 1, 0, 0, 0, 0, 1, 1, 0, 1, 1, 1, 0, 1, 1, 0, 0, 1, 1] 5\n",
            "0.7349312028912669 5.011240251214126e-06 [0, 0, 1, 1, 1, 1, 1, 1, 0, 0, 0, 1, 0, 0, 0, 0, 1, 1, 0, 1, 1, 1, 0, 1, 1, 0, 0, 1, 1] 6\n",
            "0.7347591461733218 5.590219522402853e-06 [0, 0, 1, 1, 1, 1, 1, 1, 0, 0, 0, 1, 1, 0, 0, 0, 0, 1, 0, 1, 1, 0, 0, 1, 1, 1, 1, 0, 1] 7\n",
            "0.7347693634112618 2.729732940243136e-06 [0, 0, 1, 1, 1, 1, 1, 1, 0, 0, 0, 1, 1, 0, 0, 0, 1, 1, 0, 0, 1, 0, 0, 1, 1, 1, 1, 0, 1] 8\n",
            "0.7360536520945022 1.497936947736652e-05 [0, 0, 1, 1, 1, 1, 1, 1, 0, 0, 0, 1, 1, 0, 0, 0, 0, 1, 0, 1, 1, 0, 0, 1, 0, 1, 1, 0, 1] 9\n",
            "0.7360536520945022 7.99490411821912e-07 [0, 0, 1, 1, 1, 1, 1, 1, 0, 0, 0, 1, 1, 0, 0, 0, 0, 1, 0, 1, 1, 0, 0, 1, 0, 1, 1, 0, 1] 10\n",
            "0.7360536520945022 1.4390667089676359e-06 [0, 0, 1, 1, 1, 1, 1, 1, 0, 0, 0, 1, 0, 0, 0, 0, 0, 1, 0, 1, 1, 0, 0, 1, 0, 1, 1, 0, 1] 11\n",
            "0.7360536520945022 2.4558342727384166e-05 [0, 0, 1, 1, 1, 1, 1, 1, 0, 0, 0, 1, 0, 0, 0, 0, 0, 1, 0, 1, 1, 0, 0, 1, 0, 1, 1, 0, 1] 12\n",
            "0.7360536520945022 2.2702644952267085e-06 [0, 0, 1, 1, 1, 1, 1, 1, 0, 0, 0, 1, 0, 0, 0, 0, 0, 1, 0, 1, 1, 0, 0, 1, 0, 1, 1, 0, 1] 13\n",
            "0.7360536520945022 1.854622028452548e-06 [0, 0, 1, 1, 1, 1, 1, 1, 0, 0, 0, 1, 0, 0, 0, 0, 0, 1, 0, 1, 1, 0, 0, 1, 0, 1, 1, 0, 1] 14\n",
            "0.7360536520945022 3.0755749624999026e-06 [0, 0, 1, 1, 1, 1, 1, 1, 0, 0, 0, 1, 0, 0, 0, 0, 0, 1, 0, 1, 1, 0, 0, 1, 0, 1, 1, 0, 1] 15\n",
            "0.7360536520945022 4.829817805654083e-06 [0, 0, 1, 1, 1, 1, 1, 1, 0, 0, 0, 1, 0, 0, 0, 0, 0, 1, 0, 1, 1, 0, 0, 1, 0, 1, 1, 0, 1] 16\n",
            "0.7360536520945022 1.8490982415639213e-05 [0, 0, 1, 1, 1, 1, 1, 1, 0, 0, 0, 1, 1, 0, 0, 0, 0, 1, 0, 1, 1, 0, 0, 1, 0, 1, 1, 0, 1] 17\n",
            "0.7360536520945022 6.177189488290187e-05 [0, 0, 1, 1, 1, 1, 1, 1, 0, 0, 0, 1, 0, 0, 0, 0, 0, 1, 0, 1, 1, 0, 0, 1, 0, 1, 1, 0, 1] 18\n",
            "0.7360536520945022 3.0734226015290634e-06 [0, 0, 1, 1, 1, 1, 1, 1, 0, 0, 0, 1, 1, 0, 0, 0, 0, 1, 0, 1, 1, 0, 0, 1, 0, 1, 1, 0, 1] 19\n",
            "0.7360536520945022 0.0 [0, 0, 1, 1, 1, 1, 1, 1, 0, 0, 0, 1, 0, 0, 0, 0, 1, 1, 0, 1, 1, 0, 0, 1, 0, 1, 1, 0, 1] 20\n"
          ]
        },
        {
          "output_type": "stream",
          "name": "stderr",
          "text": [
            "/usr/local/lib/python3.11/dist-packages/deap/creator.py:185: RuntimeWarning: A class named 'FitnessMax' has already been created and it will be overwritten. Consider deleting previous creation of that class or rename it.\n",
            "  warnings.warn(\"A class named '{0}' has already been created and it \"\n",
            "/usr/local/lib/python3.11/dist-packages/deap/creator.py:185: RuntimeWarning: A class named 'Individual' has already been created and it will be overwritten. Consider deleting previous creation of that class or rename it.\n",
            "  warnings.warn(\"A class named '{0}' has already been created and it \"\n"
          ]
        },
        {
          "output_type": "stream",
          "name": "stdout",
          "text": [
            "0.7121364583290981 9.276136211030752e-05 [1, 0, 1, 0, 1, 0, 1, 1, 0, 1, 0, 0, 0, 1, 1, 1, 1, 0, 0, 1, 1, 0, 0, 1, 0, 1, 0, 1, 0] 0\n",
            "0.7161588445679138 0.00012544610248926982 [0, 0, 1, 1, 1, 0, 1, 1, 1, 1, 0, 1, 0, 0, 0, 0, 0, 0, 1, 0, 0, 0, 0, 0, 1, 0, 1, 1, 1] 0\n",
            "0.7193394348780673 3.5565977983522707e-05 [0, 0, 1, 0, 1, 1, 1, 1, 1, 1, 0, 0, 0, 1, 0, 0, 0, 0, 0, 1, 1, 0, 0, 0, 0, 0, 1, 1, 1] 1\n",
            "0.724795918913566 2.76320893754047e-05 [0, 0, 1, 0, 1, 0, 1, 1, 1, 1, 0, 1, 0, 0, 0, 0, 1, 0, 0, 1, 1, 0, 0, 1, 1, 0, 1, 0, 1] 2\n",
            "0.7268564128453782 1.603128127543988e-05 [0, 0, 1, 0, 1, 1, 1, 1, 1, 1, 0, 0, 1, 1, 0, 0, 1, 0, 0, 1, 1, 0, 0, 1, 1, 1, 1, 0, 0] 3\n",
            "0.7311681163693547 2.147389939120273e-05 [0, 0, 1, 0, 1, 1, 1, 1, 1, 1, 0, 1, 0, 1, 0, 0, 0, 0, 0, 1, 1, 0, 0, 0, 0, 1, 0, 1, 1] 4\n",
            "0.7283441936220839 1.5046455766657853e-05 [0, 0, 1, 1, 1, 1, 1, 1, 1, 0, 0, 1, 0, 0, 0, 0, 1, 0, 0, 0, 1, 0, 0, 0, 1, 0, 1, 0, 1] 5\n",
            "0.729383154661045 7.944610666923401e-06 [0, 0, 1, 1, 1, 1, 1, 1, 1, 0, 0, 1, 0, 0, 0, 0, 1, 0, 0, 0, 1, 1, 0, 1, 1, 0, 0, 0, 1] 6\n",
            "0.7335192293087031 6.530943092154317e-06 [0, 0, 1, 1, 1, 1, 1, 1, 1, 1, 0, 1, 0, 0, 0, 0, 1, 0, 0, 0, 1, 0, 0, 1, 1, 1, 1, 0, 1] 7\n",
            "0.7357948298143919 4.7380006070722e-06 [0, 0, 1, 1, 1, 1, 1, 1, 1, 1, 0, 1, 0, 0, 0, 0, 1, 0, 0, 0, 1, 1, 0, 1, 1, 1, 1, 0, 1] 8\n",
            "0.7357948298143919 3.0111847431824046e-06 [0, 0, 1, 1, 1, 1, 1, 1, 1, 1, 0, 1, 1, 0, 0, 0, 1, 0, 0, 0, 1, 1, 0, 1, 1, 1, 1, 0, 1] 9\n",
            "0.7357948298143919 2.2695105750057712e-06 [0, 0, 1, 1, 1, 1, 1, 1, 1, 1, 0, 1, 1, 0, 0, 0, 1, 0, 0, 0, 1, 1, 0, 1, 1, 1, 1, 0, 1] 10\n",
            "0.7353179533418562 1.1439881044121379e-05 [0, 0, 1, 0, 1, 1, 1, 1, 1, 1, 0, 1, 1, 0, 0, 0, 1, 0, 0, 1, 1, 0, 0, 1, 1, 1, 0, 0, 0] 11\n",
            "0.7339038119277148 5.219604576136022e-06 [0, 0, 1, 0, 1, 1, 1, 1, 1, 0, 0, 1, 1, 0, 0, 0, 1, 0, 0, 1, 1, 1, 0, 1, 1, 1, 1, 0, 0] 12\n",
            "0.7357948298143919 2.249688538086387e-05 [0, 0, 1, 1, 1, 1, 1, 1, 1, 1, 0, 1, 0, 0, 0, 0, 1, 0, 0, 0, 1, 1, 0, 1, 1, 1, 1, 0, 1] 13\n",
            "0.7357948298143919 2.706697579116932e-06 [0, 0, 1, 1, 1, 1, 1, 1, 1, 1, 0, 1, 1, 0, 0, 0, 1, 0, 0, 0, 1, 1, 0, 0, 1, 1, 1, 0, 0] 14\n",
            "0.7357948298143919 2.206483906998268e-06 [0, 0, 1, 1, 1, 1, 1, 1, 1, 1, 0, 1, 1, 0, 0, 0, 1, 0, 0, 0, 1, 1, 0, 1, 1, 1, 1, 0, 1] 15\n",
            "0.7357948298143919 1.5005777931572839e-05 [0, 0, 1, 1, 1, 1, 1, 1, 1, 1, 0, 1, 1, 0, 0, 0, 1, 0, 0, 0, 1, 1, 0, 1, 1, 1, 1, 0, 1] 16\n",
            "0.7357948298143919 3.5307959246790284e-06 [0, 0, 1, 1, 1, 1, 1, 1, 1, 1, 0, 1, 1, 0, 0, 0, 1, 0, 0, 0, 1, 1, 0, 1, 1, 1, 1, 0, 1] 17\n",
            "0.7357948298143919 1.6658091144837644e-05 [0, 0, 1, 1, 1, 1, 1, 1, 1, 1, 0, 1, 1, 0, 0, 0, 1, 0, 0, 0, 1, 1, 0, 1, 1, 1, 1, 0, 1] 18\n",
            "0.7357948298143919 1.673124406755189e-05 [0, 0, 1, 1, 1, 1, 1, 1, 1, 1, 0, 1, 1, 0, 0, 0, 1, 0, 0, 0, 1, 1, 0, 1, 1, 1, 1, 0, 1] 19\n",
            "0.7357948298143919 1.2730145144919846e-07 [0, 0, 1, 1, 1, 1, 1, 1, 1, 1, 0, 1, 1, 0, 0, 0, 1, 0, 0, 0, 1, 1, 0, 1, 1, 1, 1, 0, 1] 20\n",
            "0.7357948298143919 1.734908832474857e-05 [0, 0, 1, 1, 1, 1, 1, 1, 1, 1, 0, 1, 0, 0, 0, 0, 1, 0, 0, 0, 1, 1, 0, 1, 1, 1, 1, 0, 1] 21\n",
            "0.7357948298143919 1.6478638749413988e-05 [0, 0, 1, 1, 1, 1, 1, 1, 1, 1, 0, 1, 1, 0, 0, 0, 1, 0, 0, 0, 1, 1, 0, 1, 1, 1, 1, 0, 1] 22\n",
            "0.7357948298143919 6.139323949391398e-07 [0, 0, 1, 1, 1, 1, 1, 1, 1, 1, 0, 1, 1, 0, 0, 0, 1, 0, 0, 0, 1, 1, 0, 1, 1, 1, 1, 0, 1] 23\n",
            "0.7357948298143919 3.702752026283679e-06 [0, 0, 1, 1, 1, 1, 1, 1, 1, 1, 0, 1, 0, 0, 0, 0, 1, 0, 0, 0, 1, 1, 0, 1, 1, 1, 1, 0, 0] 24\n",
            "0.7357948298143919 1.0797218951340962e-06 [0, 0, 1, 1, 1, 1, 1, 1, 1, 1, 0, 1, 0, 0, 0, 0, 1, 0, 0, 0, 1, 1, 0, 1, 1, 1, 1, 0, 1] 25\n",
            "0.7357948298143919 1.1281714798842876e-06 [0, 0, 1, 1, 1, 1, 1, 1, 1, 1, 0, 1, 1, 0, 0, 0, 1, 0, 0, 0, 1, 1, 0, 1, 1, 1, 1, 0, 1] 26\n",
            "0.7357948298143919 1.426178434310084e-06 [0, 0, 1, 1, 1, 1, 1, 1, 1, 1, 0, 1, 1, 0, 0, 0, 1, 0, 0, 0, 1, 1, 0, 1, 1, 1, 1, 0, 1] 27\n",
            "0.7357948298143919 2.8099187663396538e-05 [0, 0, 1, 1, 1, 1, 1, 1, 1, 1, 0, 1, 1, 0, 0, 0, 1, 0, 0, 0, 1, 1, 0, 1, 1, 1, 1, 0, 1] 28\n",
            "0.7357948298143919 5.560230119624153e-06 [0, 0, 1, 1, 1, 1, 1, 1, 1, 1, 0, 1, 1, 0, 0, 0, 1, 0, 0, 0, 1, 1, 0, 1, 1, 1, 1, 0, 1] 29\n",
            "0.7357948298143919 1.860652839477707e-05 [0, 0, 1, 1, 1, 1, 1, 1, 1, 1, 0, 1, 1, 0, 0, 0, 1, 0, 0, 0, 1, 1, 0, 1, 1, 1, 1, 0, 0] 30\n",
            "0.7357948298143919 6.472905471824179e-07 [0, 0, 1, 1, 1, 1, 1, 1, 1, 1, 0, 1, 0, 0, 0, 0, 1, 0, 0, 0, 1, 1, 0, 1, 1, 1, 1, 0, 0] 31\n",
            "0.7357948298143919 2.4822086178418385e-06 [0, 0, 1, 1, 1, 1, 1, 1, 1, 1, 0, 1, 1, 0, 0, 0, 1, 0, 0, 0, 1, 1, 0, 1, 1, 1, 1, 0, 0] 32\n",
            "0.7357948298143919 6.601025119232323e-06 [0, 0, 1, 1, 1, 1, 1, 1, 1, 1, 0, 1, 1, 0, 0, 0, 1, 0, 0, 0, 1, 1, 0, 1, 1, 1, 1, 0, 1] 33\n",
            "0.7357948298143919 3.6533303047883803e-07 [0, 0, 1, 1, 1, 1, 1, 1, 1, 1, 0, 1, 1, 0, 0, 0, 1, 0, 0, 0, 1, 1, 0, 1, 1, 1, 1, 0, 0] 34\n"
          ]
        },
        {
          "output_type": "stream",
          "name": "stderr",
          "text": [
            "/usr/local/lib/python3.11/dist-packages/deap/creator.py:185: RuntimeWarning: A class named 'FitnessMax' has already been created and it will be overwritten. Consider deleting previous creation of that class or rename it.\n",
            "  warnings.warn(\"A class named '{0}' has already been created and it \"\n",
            "/usr/local/lib/python3.11/dist-packages/deap/creator.py:185: RuntimeWarning: A class named 'Individual' has already been created and it will be overwritten. Consider deleting previous creation of that class or rename it.\n",
            "  warnings.warn(\"A class named '{0}' has already been created and it \"\n"
          ]
        },
        {
          "output_type": "stream",
          "name": "stdout",
          "text": [
            "0.7121364583290981 9.298640111493807e-05 [1, 0, 1, 0, 1, 0, 1, 1, 0, 1, 0, 0, 0, 1, 1, 1, 1, 0, 0, 1, 1, 0, 0, 1, 0, 1, 0, 1, 0] 0\n",
            "0.7161588445679138 0.00010749168732012737 [0, 0, 1, 1, 1, 0, 1, 1, 1, 1, 0, 1, 0, 0, 0, 0, 0, 0, 1, 0, 0, 0, 0, 0, 1, 0, 1, 1, 1] 0\n",
            "0.7193394348780673 3.2447375421475546e-05 [0, 0, 1, 0, 1, 1, 1, 1, 1, 1, 0, 0, 0, 1, 0, 0, 0, 0, 0, 1, 1, 0, 0, 0, 0, 0, 1, 1, 1] 1\n",
            "0.724795918913566 3.7755338316350304e-05 [0, 0, 1, 0, 1, 0, 1, 1, 1, 1, 0, 1, 0, 0, 0, 0, 1, 0, 0, 1, 1, 0, 0, 1, 1, 0, 1, 0, 1] 2\n",
            "0.7266485416350645 1.8977775923591293e-05 [0, 0, 1, 1, 1, 1, 1, 1, 1, 1, 0, 1, 0, 0, 0, 0, 1, 0, 1, 1, 1, 0, 0, 1, 1, 0, 1, 0, 0] 3\n",
            "0.7283441936220839 1.9673549615549002e-05 [0, 0, 1, 1, 1, 1, 1, 1, 1, 0, 0, 1, 0, 0, 0, 0, 1, 0, 0, 0, 1, 0, 0, 0, 1, 0, 1, 0, 1] 4\n",
            "0.7283441936220839 1.4002533832575906e-05 [0, 0, 1, 1, 1, 1, 1, 1, 1, 0, 0, 1, 0, 0, 0, 0, 1, 0, 0, 0, 1, 0, 0, 0, 1, 0, 1, 0, 1] 5\n",
            "0.729383154661045 1.0738859578431552e-05 [0, 0, 1, 1, 1, 1, 1, 1, 1, 0, 0, 1, 0, 0, 0, 0, 1, 0, 0, 0, 1, 1, 0, 1, 1, 0, 0, 0, 1] 6\n",
            "0.7304557390346003 2.1543700976037033e-05 [0, 0, 1, 1, 1, 1, 1, 1, 1, 1, 0, 1, 0, 1, 0, 0, 1, 0, 0, 1, 1, 0, 0, 1, 1, 0, 1, 0, 0] 7\n",
            "0.7326694906933936 1.6599366760673334e-06 [0, 0, 1, 1, 1, 1, 1, 1, 1, 1, 0, 1, 0, 1, 0, 0, 1, 0, 0, 1, 1, 1, 0, 1, 1, 0, 0, 0, 1] 8\n",
            "0.7326694906933936 5.7087885186599585e-06 [0, 0, 1, 1, 1, 1, 1, 1, 1, 1, 0, 1, 0, 0, 0, 0, 1, 0, 0, 1, 1, 1, 0, 0, 1, 0, 0, 0, 1] 9\n",
            "0.7326694906933936 2.0552440423690045e-06 [0, 0, 1, 1, 1, 1, 1, 1, 1, 1, 0, 1, 0, 0, 0, 0, 1, 0, 0, 1, 1, 1, 0, 1, 1, 0, 0, 0, 1] 10\n",
            "0.7326694906933936 6.012532926766169e-06 [0, 0, 1, 1, 1, 1, 1, 1, 1, 1, 0, 1, 0, 0, 0, 0, 1, 0, 0, 1, 1, 1, 0, 1, 1, 0, 0, 0, 1] 11\n",
            "0.7326694906933936 8.546291541361107e-06 [0, 0, 1, 1, 1, 1, 1, 1, 1, 1, 0, 1, 0, 0, 0, 0, 1, 0, 0, 1, 1, 1, 0, 1, 1, 0, 0, 0, 1] 12\n",
            "0.7326694906933936 2.251695871813258e-05 [0, 0, 1, 1, 1, 1, 1, 1, 1, 1, 0, 1, 0, 0, 0, 0, 1, 0, 0, 1, 1, 1, 0, 0, 1, 0, 0, 0, 1] 13\n",
            "0.7326694906933936 2.430070298605865e-06 [0, 0, 1, 1, 1, 1, 1, 1, 1, 1, 0, 1, 0, 0, 0, 0, 1, 0, 0, 1, 1, 1, 0, 0, 1, 0, 0, 0, 1] 14\n",
            "0.7326694906933936 1.4846428598858591e-06 [0, 0, 1, 1, 1, 1, 1, 1, 1, 1, 0, 1, 0, 0, 0, 0, 1, 0, 0, 1, 1, 1, 0, 0, 1, 0, 0, 0, 1] 15\n",
            "0.7326694906933936 1.9926999165911543e-05 [0, 0, 1, 1, 1, 1, 1, 1, 1, 1, 0, 1, 0, 0, 0, 0, 1, 0, 0, 1, 1, 1, 0, 0, 1, 0, 0, 0, 1] 16\n",
            "0.7326694906933936 5.206685209571933e-06 [0, 0, 1, 1, 1, 1, 1, 1, 1, 1, 0, 1, 0, 0, 0, 0, 1, 0, 0, 1, 1, 1, 0, 1, 1, 0, 0, 0, 1] 17\n",
            "0.7326694906933936 1.6439932164960838e-05 [0, 0, 1, 1, 1, 1, 1, 1, 1, 1, 0, 1, 0, 0, 0, 0, 1, 0, 0, 1, 1, 1, 0, 0, 1, 0, 0, 0, 1] 18\n",
            "0.7326694906933936 1.4978099069306083e-05 [0, 0, 1, 1, 1, 1, 1, 1, 1, 1, 0, 1, 0, 0, 0, 0, 1, 0, 0, 1, 1, 1, 0, 0, 1, 0, 0, 0, 1] 19\n",
            "0.7326694906933936 1.4933585274497594e-06 [0, 0, 1, 1, 1, 1, 1, 1, 1, 1, 0, 1, 0, 0, 0, 0, 1, 0, 0, 1, 1, 1, 0, 1, 1, 0, 0, 0, 1] 20\n",
            "0.7326694906933936 3.728541927775638e-05 [0, 0, 1, 1, 1, 1, 1, 1, 1, 1, 0, 1, 0, 0, 0, 0, 1, 0, 0, 1, 1, 1, 0, 0, 1, 0, 0, 0, 0] 21\n",
            "0.7326694906933936 1.2039425012969752e-05 [0, 0, 1, 1, 1, 1, 1, 1, 1, 1, 0, 1, 0, 0, 0, 0, 1, 0, 0, 1, 1, 1, 0, 0, 1, 0, 0, 0, 1] 22\n",
            "0.7326694906933936 2.070533338788718e-05 [0, 0, 1, 1, 1, 1, 1, 1, 1, 1, 0, 1, 0, 0, 0, 0, 1, 0, 0, 1, 1, 1, 0, 1, 1, 0, 0, 0, 0] 23\n",
            "0.7326694906933936 3.827422423134843e-06 [0, 0, 1, 1, 1, 1, 1, 1, 1, 1, 0, 1, 0, 0, 0, 0, 1, 0, 0, 1, 1, 1, 0, 1, 1, 0, 0, 0, 0] 24\n",
            "0.7326694906933936 1.1162415133643203e-05 [0, 0, 1, 1, 1, 1, 1, 1, 1, 1, 0, 1, 0, 0, 0, 0, 1, 0, 0, 1, 1, 1, 0, 0, 1, 0, 0, 0, 1] 25\n",
            "0.7326694906933936 7.902966871329812e-07 [0, 0, 1, 1, 1, 1, 1, 1, 1, 1, 0, 1, 0, 0, 0, 0, 1, 0, 0, 1, 1, 1, 0, 0, 1, 0, 0, 0, 1] 26\n",
            "0.7326694906933936 2.8141267654612484e-05 [0, 0, 1, 1, 1, 1, 1, 1, 1, 1, 0, 1, 0, 0, 0, 0, 1, 0, 0, 1, 1, 1, 0, 0, 1, 0, 0, 0, 1] 27\n",
            "0.7326694906933936 3.615939763983477e-05 [0, 0, 1, 1, 1, 1, 1, 1, 1, 1, 0, 1, 0, 0, 0, 0, 1, 0, 0, 1, 1, 1, 0, 1, 1, 0, 0, 0, 1] 28\n",
            "0.7326694906933936 5.0317693032750155e-06 [0, 0, 1, 1, 1, 1, 1, 1, 1, 1, 0, 1, 0, 0, 0, 0, 1, 0, 0, 1, 1, 1, 0, 0, 1, 0, 0, 0, 0] 29\n",
            "0.7326694906933936 2.8928281268879866e-05 [0, 0, 1, 1, 1, 1, 1, 1, 1, 1, 0, 1, 0, 0, 0, 0, 1, 0, 0, 1, 1, 1, 0, 1, 1, 0, 0, 0, 0] 30\n",
            "0.7326694906933936 2.957155992688714e-05 [0, 0, 1, 1, 1, 1, 1, 1, 1, 1, 0, 1, 0, 0, 0, 0, 1, 0, 0, 1, 1, 1, 0, 1, 1, 0, 0, 0, 0] 31\n",
            "0.7326694906933936 1.558161635397682e-05 [0, 0, 1, 1, 1, 1, 1, 1, 1, 1, 0, 1, 0, 0, 0, 0, 1, 0, 0, 1, 1, 1, 0, 0, 1, 0, 0, 0, 0] 32\n",
            "0.7326694906933936 2.5515078991527954e-05 [0, 0, 1, 1, 1, 1, 1, 1, 1, 1, 0, 1, 0, 0, 0, 0, 1, 0, 0, 1, 1, 1, 0, 1, 1, 0, 0, 0, 1] 33\n",
            "0.7326694906933936 2.7496141512804802e-06 [0, 0, 1, 1, 1, 1, 1, 1, 1, 1, 0, 1, 0, 0, 0, 0, 1, 0, 0, 1, 1, 1, 0, 0, 1, 0, 0, 0, 1] 34\n"
          ]
        },
        {
          "output_type": "stream",
          "name": "stderr",
          "text": [
            "/usr/local/lib/python3.11/dist-packages/deap/creator.py:185: RuntimeWarning: A class named 'FitnessMax' has already been created and it will be overwritten. Consider deleting previous creation of that class or rename it.\n",
            "  warnings.warn(\"A class named '{0}' has already been created and it \"\n",
            "/usr/local/lib/python3.11/dist-packages/deap/creator.py:185: RuntimeWarning: A class named 'Individual' has already been created and it will be overwritten. Consider deleting previous creation of that class or rename it.\n",
            "  warnings.warn(\"A class named '{0}' has already been created and it \"\n"
          ]
        },
        {
          "output_type": "stream",
          "name": "stdout",
          "text": [
            "0.7132955310810204 0.00015195162644985683 [0, 0, 1, 1, 1, 0, 1, 1, 0, 1, 0, 0, 0, 0, 0, 0, 1, 1, 1, 1, 1, 0, 1, 1, 0, 1, 0, 1, 1] 0\n",
            "0.7302743567830821 6.41125318935951e-05 [1, 0, 1, 1, 1, 0, 1, 0, 0, 0, 0, 1, 0, 0, 0, 0, 1, 1, 0, 1, 1, 1, 0, 1, 1, 0, 0, 1, 1] 0\n",
            "0.7234144256100318 2.818829752514914e-05 [1, 0, 1, 1, 1, 0, 1, 1, 0, 1, 0, 1, 0, 1, 0, 0, 1, 1, 0, 1, 1, 0, 0, 1, 1, 1, 0, 1, 1] 0\n",
            "0.7249811074768242 2.1990617513235785e-05 [1, 1, 1, 0, 1, 0, 1, 0, 0, 1, 0, 1, 0, 1, 1, 0, 1, 1, 0, 1, 1, 1, 0, 1, 1, 0, 0, 0, 1] 1\n",
            "0.7280769504063308 3.786112289090997e-05 [1, 0, 1, 1, 1, 0, 1, 1, 0, 0, 0, 1, 0, 1, 0, 0, 0, 1, 1, 1, 0, 0, 0, 0, 1, 1, 0, 1, 0] 2\n",
            "0.7296355245587453 2.0495881011196362e-05 [0, 0, 1, 1, 1, 0, 1, 1, 0, 1, 0, 1, 0, 1, 0, 0, 1, 1, 0, 1, 1, 1, 0, 1, 1, 1, 0, 1, 0] 3\n",
            "0.7282166002532977 1.9382211743980112e-05 [0, 0, 1, 1, 1, 0, 1, 1, 0, 0, 0, 1, 0, 1, 0, 0, 0, 1, 1, 1, 1, 0, 0, 1, 1, 1, 0, 1, 0] 4\n",
            "0.7319416741885536 5.099843405581406e-06 [1, 0, 1, 1, 1, 0, 1, 1, 0, 1, 0, 1, 1, 1, 1, 0, 0, 1, 0, 1, 1, 0, 0, 1, 0, 0, 0, 1, 1] 5\n",
            "0.7289343627359202 1.6372141565136568e-05 [1, 0, 1, 1, 1, 0, 1, 1, 0, 0, 0, 1, 0, 0, 0, 0, 0, 1, 1, 1, 0, 0, 0, 0, 1, 1, 0, 0, 1] 6\n",
            "0.7308304616394361 2.1430743665555463e-06 [0, 0, 1, 1, 1, 0, 1, 1, 0, 1, 0, 1, 0, 0, 0, 0, 0, 1, 1, 1, 1, 0, 0, 0, 1, 1, 0, 0, 0] 7\n",
            "0.7319539399486976 1.5585865994027187e-05 [0, 0, 1, 1, 1, 0, 1, 1, 0, 0, 0, 1, 0, 1, 1, 0, 0, 1, 0, 1, 1, 0, 0, 1, 1, 1, 0, 1, 0] 8\n",
            "0.7319539399486976 1.8066111316085276e-06 [0, 0, 1, 1, 1, 0, 1, 1, 0, 0, 0, 1, 0, 1, 1, 0, 0, 1, 0, 1, 1, 0, 0, 1, 1, 1, 0, 1, 1] 9\n",
            "0.7319539399486976 9.43400909334002e-07 [0, 0, 1, 1, 1, 0, 1, 1, 0, 0, 0, 1, 0, 1, 1, 0, 0, 1, 0, 1, 1, 0, 0, 1, 1, 1, 0, 1, 0] 10\n",
            "0.7332600623976772 4.987110280188376e-05 [0, 0, 1, 1, 1, 0, 1, 1, 0, 0, 0, 1, 0, 0, 1, 0, 0, 1, 0, 1, 1, 0, 0, 1, 1, 1, 0, 0, 0] 11\n",
            "0.7319539399486976 2.9045762569519575e-05 [0, 0, 1, 1, 1, 0, 1, 1, 0, 0, 0, 1, 0, 0, 1, 0, 0, 1, 0, 1, 1, 0, 0, 1, 1, 1, 0, 1, 0] 12\n",
            "0.7319539399486976 3.1593619136428938e-06 [0, 0, 1, 1, 1, 0, 1, 1, 0, 0, 0, 1, 0, 1, 1, 0, 0, 1, 0, 1, 1, 0, 0, 1, 1, 1, 0, 1, 0] 13\n",
            "0.7326358505263713 3.3752370175555577e-06 [0, 0, 1, 1, 1, 0, 1, 1, 0, 0, 1, 1, 1, 1, 1, 0, 0, 1, 0, 1, 1, 0, 0, 1, 0, 1, 0, 1, 0] 14\n",
            "0.73458020257496 9.283067656531035e-06 [0, 0, 1, 1, 1, 0, 1, 1, 0, 0, 1, 1, 1, 1, 1, 0, 0, 1, 0, 1, 1, 0, 0, 1, 1, 1, 0, 1, 0] 15\n",
            "0.73458020257496 1.5266242481809577e-05 [0, 0, 1, 1, 1, 0, 1, 1, 0, 0, 1, 1, 1, 1, 1, 0, 0, 1, 0, 1, 1, 0, 0, 1, 1, 1, 0, 1, 0] 16\n",
            "0.73458020257496 1.2351444165796544e-05 [0, 0, 1, 1, 1, 0, 1, 1, 0, 0, 1, 1, 1, 1, 1, 0, 0, 1, 0, 1, 1, 0, 0, 1, 1, 1, 0, 1, 0] 17\n",
            "0.73458020257496 1.4923907916223754e-05 [0, 0, 1, 1, 1, 0, 1, 1, 0, 0, 1, 1, 0, 1, 1, 0, 0, 1, 0, 1, 1, 0, 0, 1, 1, 1, 0, 1, 0] 18\n",
            "0.73458020257496 7.700255413391438e-06 [0, 0, 1, 1, 1, 0, 1, 1, 0, 0, 1, 1, 0, 1, 1, 0, 0, 1, 0, 1, 1, 0, 0, 1, 1, 1, 0, 1, 1] 19\n",
            "0.73458020257496 8.501405115484614e-06 [0, 0, 1, 1, 1, 0, 1, 1, 0, 0, 1, 1, 0, 1, 1, 0, 0, 1, 0, 1, 1, 0, 0, 1, 1, 1, 0, 1, 0] 20\n",
            "0.73458020257496 5.8707744405901315e-08 [0, 0, 1, 1, 1, 0, 1, 1, 0, 0, 1, 1, 0, 1, 1, 0, 0, 1, 0, 1, 1, 0, 0, 1, 1, 1, 0, 1, 0] 21\n",
            "0.73458020257496 2.4397452370174333e-05 [0, 0, 1, 1, 1, 0, 1, 1, 0, 0, 1, 1, 1, 1, 1, 0, 0, 1, 0, 1, 1, 0, 0, 1, 1, 1, 0, 1, 0] 22\n",
            "0.73458020257496 1.6326662718850882e-05 [0, 0, 1, 1, 1, 0, 1, 1, 0, 0, 1, 1, 0, 1, 1, 0, 0, 1, 0, 1, 1, 0, 0, 1, 1, 1, 0, 1, 0] 23\n",
            "0.73458020257496 4.9606333215798945e-06 [0, 0, 1, 1, 1, 0, 1, 1, 0, 0, 1, 1, 0, 1, 1, 0, 0, 1, 0, 1, 1, 0, 0, 1, 1, 1, 0, 1, 0] 24\n",
            "0.73458020257496 1.3563817649282416e-05 [0, 0, 1, 1, 1, 0, 1, 1, 0, 0, 1, 1, 1, 1, 1, 0, 0, 1, 0, 1, 1, 0, 0, 1, 1, 1, 0, 1, 0] 25\n",
            "0.73458020257496 5.8110922160767495e-06 [0, 0, 1, 1, 1, 0, 1, 1, 0, 0, 1, 1, 0, 1, 1, 0, 0, 1, 0, 1, 1, 0, 0, 1, 1, 1, 0, 1, 0] 26\n",
            "0.73458020257496 1.2470352104011672e-05 [0, 0, 1, 1, 1, 0, 1, 1, 0, 0, 1, 1, 0, 1, 1, 0, 0, 1, 0, 1, 1, 0, 0, 1, 1, 1, 0, 1, 0] 27\n",
            "0.73458020257496 1.0168031332020415e-05 [0, 0, 1, 1, 1, 0, 1, 1, 0, 0, 1, 1, 1, 1, 1, 0, 0, 1, 0, 1, 1, 0, 0, 1, 1, 1, 0, 1, 0] 28\n",
            "0.73458020257496 2.0080180055026053e-06 [0, 0, 1, 1, 1, 0, 1, 1, 0, 0, 1, 1, 1, 1, 1, 0, 0, 1, 0, 1, 1, 0, 0, 1, 1, 1, 0, 1, 0] 29\n",
            "0.73458020257496 4.891894077531441e-07 [0, 0, 1, 1, 1, 0, 1, 1, 0, 0, 1, 1, 1, 1, 1, 0, 0, 1, 0, 1, 1, 0, 0, 1, 1, 1, 0, 1, 0] 30\n",
            "0.73458020257496 6.589617833851392e-06 [0, 0, 1, 1, 1, 0, 1, 1, 0, 0, 1, 1, 1, 1, 1, 0, 0, 1, 0, 1, 1, 0, 0, 1, 1, 1, 0, 1, 0] 31\n",
            "0.73458020257496 2.922297459168923e-06 [0, 0, 1, 1, 1, 0, 1, 1, 0, 0, 1, 1, 1, 1, 1, 0, 0, 1, 0, 1, 1, 0, 0, 1, 1, 1, 0, 1, 0] 32\n",
            "0.73458020257496 1.5285400027591945e-06 [0, 0, 1, 1, 1, 0, 1, 1, 0, 0, 1, 1, 0, 1, 1, 0, 0, 1, 0, 1, 1, 0, 0, 1, 1, 1, 0, 1, 0] 33\n",
            "0.73458020257496 2.0092816988502234e-05 [0, 0, 1, 1, 1, 0, 1, 1, 0, 0, 1, 1, 0, 1, 1, 0, 0, 1, 0, 1, 1, 0, 0, 1, 1, 1, 0, 1, 0] 34\n"
          ]
        },
        {
          "output_type": "stream",
          "name": "stderr",
          "text": [
            "/usr/local/lib/python3.11/dist-packages/deap/creator.py:185: RuntimeWarning: A class named 'FitnessMax' has already been created and it will be overwritten. Consider deleting previous creation of that class or rename it.\n",
            "  warnings.warn(\"A class named '{0}' has already been created and it \"\n",
            "/usr/local/lib/python3.11/dist-packages/deap/creator.py:185: RuntimeWarning: A class named 'Individual' has already been created and it will be overwritten. Consider deleting previous creation of that class or rename it.\n",
            "  warnings.warn(\"A class named '{0}' has already been created and it \"\n"
          ]
        },
        {
          "output_type": "stream",
          "name": "stdout",
          "text": [
            "0.7132955310810204 0.0001634968548080418 [0, 0, 1, 1, 1, 0, 1, 1, 0, 1, 0, 0, 0, 0, 0, 0, 1, 1, 1, 1, 1, 0, 1, 1, 0, 1, 0, 1, 1] 0\n",
            "0.7302743567830821 5.982043571692944e-05 [1, 0, 1, 1, 1, 0, 1, 0, 0, 0, 0, 1, 0, 0, 0, 0, 1, 1, 0, 1, 1, 1, 0, 1, 1, 0, 0, 1, 1] 0\n",
            "0.7234144256100318 3.0551897014227836e-05 [1, 0, 1, 1, 1, 0, 1, 1, 0, 1, 0, 1, 0, 1, 0, 0, 1, 1, 0, 1, 1, 0, 0, 1, 1, 1, 0, 1, 1] 0\n",
            "0.7249811074768242 2.2148937620040987e-05 [1, 1, 1, 0, 1, 0, 1, 0, 0, 1, 0, 1, 0, 1, 1, 0, 1, 1, 0, 1, 1, 1, 0, 1, 1, 0, 0, 0, 1] 1\n",
            "0.7280769504063308 3.801589117169432e-05 [1, 0, 1, 1, 1, 0, 1, 1, 0, 0, 0, 1, 0, 1, 0, 0, 0, 1, 1, 1, 0, 0, 0, 0, 1, 1, 0, 1, 0] 2\n",
            "0.7296355245587453 2.254223763421073e-05 [0, 0, 1, 1, 1, 0, 1, 1, 0, 1, 0, 1, 0, 1, 0, 0, 1, 1, 0, 1, 1, 1, 0, 1, 1, 1, 0, 1, 0] 3\n",
            "0.7282166002532977 2.028640557990213e-05 [0, 0, 1, 1, 1, 0, 1, 1, 0, 0, 0, 1, 0, 1, 0, 0, 0, 1, 1, 1, 1, 0, 0, 1, 1, 1, 0, 1, 0] 4\n",
            "0.7319416741885536 5.470081780220501e-06 [1, 0, 1, 1, 1, 0, 1, 1, 0, 1, 0, 1, 1, 1, 1, 0, 0, 1, 0, 1, 1, 0, 0, 1, 0, 0, 0, 1, 1] 5\n",
            "0.7310896395762025 8.932419219600882e-06 [0, 1, 1, 1, 1, 0, 1, 1, 0, 1, 0, 1, 0, 1, 1, 0, 0, 1, 0, 1, 1, 1, 0, 1, 1, 1, 0, 0, 0] 6\n",
            "0.73120960071085 9.352570661258976e-06 [0, 0, 1, 1, 1, 0, 1, 1, 0, 1, 0, 1, 0, 1, 1, 0, 0, 1, 0, 1, 1, 1, 0, 1, 1, 1, 0, 0, 0] 7\n",
            "0.73120960071085 1.0296801820981814e-05 [0, 0, 1, 1, 1, 0, 1, 1, 0, 1, 0, 1, 0, 1, 1, 0, 0, 1, 0, 1, 1, 1, 0, 1, 1, 1, 0, 0, 0] 8\n",
            "0.73120960071085 4.579004634305203e-06 [0, 0, 1, 1, 1, 0, 1, 1, 0, 1, 0, 1, 0, 1, 1, 0, 0, 1, 0, 1, 1, 1, 0, 1, 1, 1, 0, 0, 0] 9\n",
            "0.73120960071085 1.99796174557555e-06 [0, 0, 1, 1, 1, 0, 1, 1, 0, 1, 0, 1, 0, 1, 1, 0, 0, 1, 0, 1, 1, 1, 0, 1, 1, 1, 0, 0, 1] 10\n",
            "0.73120960071085 1.9633700521049507e-05 [0, 0, 1, 1, 1, 0, 1, 1, 0, 1, 0, 1, 0, 1, 1, 0, 0, 1, 0, 1, 1, 1, 0, 1, 1, 1, 0, 0, 0] 11\n",
            "0.731892255892256 2.069330443795322e-05 [0, 0, 1, 1, 1, 0, 1, 1, 0, 1, 0, 1, 0, 1, 0, 0, 0, 0, 0, 1, 1, 0, 0, 1, 1, 1, 0, 0, 0] 12\n",
            "0.7331753571753572 6.644295503080145e-06 [0, 0, 1, 1, 1, 0, 1, 1, 0, 1, 0, 1, 0, 1, 1, 0, 0, 0, 0, 1, 1, 0, 0, 1, 1, 1, 0, 0, 0] 13\n",
            "0.7331753571753572 7.310447481554215e-06 [0, 0, 1, 1, 1, 0, 1, 1, 0, 1, 0, 1, 0, 1, 1, 0, 0, 0, 0, 1, 1, 0, 0, 1, 1, 1, 0, 0, 0] 14\n",
            "0.7331753571753572 1.2778281721096005e-05 [0, 0, 1, 1, 1, 0, 1, 1, 0, 1, 0, 1, 0, 1, 1, 0, 0, 0, 0, 1, 1, 0, 0, 1, 1, 1, 0, 0, 1] 15\n",
            "0.7331753571753572 1.356486725573662e-05 [0, 0, 1, 1, 1, 0, 1, 1, 0, 1, 0, 1, 1, 1, 1, 0, 0, 0, 0, 1, 1, 0, 0, 1, 1, 1, 0, 0, 0] 16\n",
            "0.7331753571753572 9.472111154721681e-06 [0, 0, 1, 1, 1, 0, 1, 1, 0, 1, 0, 1, 0, 1, 1, 0, 0, 0, 0, 1, 1, 0, 0, 1, 1, 1, 0, 0, 0] 17\n",
            "0.7331753571753572 2.0882307670280333e-05 [0, 0, 1, 1, 1, 0, 1, 1, 0, 1, 0, 1, 0, 1, 1, 0, 0, 0, 0, 1, 1, 0, 0, 1, 1, 1, 0, 0, 0] 18\n",
            "0.7331753571753572 9.435808712403593e-06 [0, 0, 1, 1, 1, 0, 1, 1, 0, 1, 0, 1, 0, 1, 1, 0, 0, 0, 0, 1, 1, 0, 0, 1, 1, 1, 0, 0, 0] 19\n",
            "0.7331753571753572 7.236325300888401e-06 [0, 0, 1, 1, 1, 0, 1, 1, 0, 1, 0, 1, 0, 1, 1, 0, 0, 0, 0, 1, 1, 0, 0, 1, 1, 1, 0, 0, 1] 20\n",
            "0.7331753571753572 6.318966851755656e-07 [0, 0, 1, 1, 1, 0, 1, 1, 0, 1, 0, 1, 0, 1, 1, 0, 0, 0, 0, 1, 1, 0, 0, 1, 1, 1, 0, 0, 1] 21\n",
            "0.7331753571753572 2.7684331741763943e-05 [0, 0, 1, 1, 1, 0, 1, 1, 0, 1, 0, 1, 0, 1, 1, 0, 0, 0, 0, 1, 1, 0, 0, 1, 1, 1, 0, 0, 1] 22\n",
            "0.734623619371283 1.1569328010931547e-05 [0, 0, 1, 1, 1, 0, 1, 1, 0, 1, 0, 1, 0, 1, 1, 0, 1, 0, 0, 1, 1, 0, 0, 1, 1, 1, 0, 0, 1] 23\n",
            "0.734623619371283 2.680729218135673e-06 [0, 0, 1, 1, 1, 0, 1, 1, 0, 1, 0, 1, 0, 1, 1, 0, 1, 0, 0, 1, 1, 0, 0, 1, 1, 1, 0, 0, 1] 24\n",
            "0.734623619371283 5.0772267407542476e-06 [0, 0, 1, 1, 1, 0, 1, 1, 0, 1, 0, 1, 0, 1, 1, 0, 1, 0, 0, 1, 1, 0, 0, 1, 1, 1, 0, 0, 1] 25\n",
            "0.734623619371283 6.507542912476537e-06 [0, 0, 1, 1, 1, 0, 1, 1, 0, 1, 0, 1, 0, 1, 1, 0, 1, 0, 0, 1, 1, 0, 0, 1, 1, 1, 0, 0, 1] 26\n",
            "0.734623619371283 1.434366989111067e-05 [0, 0, 1, 1, 1, 0, 1, 1, 0, 1, 0, 1, 0, 1, 1, 0, 1, 0, 0, 1, 1, 0, 0, 1, 1, 1, 0, 0, 1] 27\n",
            "0.734623619371283 1.828786292842365e-05 [0, 0, 1, 1, 1, 0, 1, 1, 0, 1, 0, 1, 0, 1, 1, 0, 1, 0, 0, 1, 1, 0, 0, 1, 1, 1, 0, 0, 1] 28\n",
            "0.734623619371283 1.1562249255562598e-06 [0, 0, 1, 1, 1, 0, 1, 1, 0, 1, 0, 1, 0, 1, 1, 0, 1, 0, 0, 1, 1, 0, 0, 1, 1, 1, 0, 0, 1] 29\n",
            "0.734623619371283 1.8783621272775062e-06 [0, 0, 1, 1, 1, 0, 1, 1, 0, 1, 0, 1, 0, 1, 1, 0, 1, 0, 0, 1, 1, 0, 0, 1, 1, 1, 0, 0, 1] 30\n",
            "0.734623619371283 1.1230131726175682e-05 [0, 0, 1, 1, 1, 0, 1, 1, 0, 1, 0, 1, 0, 1, 1, 0, 1, 0, 0, 1, 1, 0, 0, 1, 1, 1, 0, 0, 1] 31\n",
            "0.734623619371283 1.0133569340314727e-05 [0, 0, 1, 1, 1, 0, 1, 1, 0, 1, 0, 1, 0, 1, 1, 0, 1, 0, 0, 1, 1, 0, 0, 1, 1, 1, 0, 0, 1] 32\n",
            "0.734623619371283 1.584526943382459e-05 [0, 0, 1, 1, 1, 0, 1, 1, 0, 1, 0, 1, 0, 1, 1, 0, 1, 0, 0, 1, 1, 0, 0, 1, 1, 1, 0, 0, 1] 33\n",
            "0.734623619371283 4.5181165947875104e-05 [0, 0, 1, 1, 1, 0, 1, 1, 0, 1, 0, 1, 0, 1, 1, 0, 1, 0, 0, 1, 1, 0, 0, 1, 1, 1, 0, 0, 1] 34\n"
          ]
        }
      ],
      "source": [
        "classifier = LogisticRegression(penalty=None, max_iter=1500, random_state=666)\n",
        "Pop_sizes  = [45] # 45\n",
        "generations = [50]\n",
        "Mutations = [0.05, 0.09]\n",
        "Tournaments = [3]\n",
        "Cross = [0.85, 0.95]\n",
        "probs_mate = [0.5]\n",
        "probs_mutate = [0.05 , 0.09]\n",
        "regist= Geafet(\n",
        "       pop_sizes = Pop_sizes,\n",
        "       generations = generations,\n",
        "       mutations = Mutations,\n",
        "       tournaments_sizes = Tournaments,\n",
        "       crossovers=Cross,\n",
        "       mate_indpb = probs_mate,\n",
        "       mutate_indpb = probs_mutate,\n",
        "       classifier = classifier,\n",
        "       ineq_measure = Theil,\n",
        "       ineq_min  = 0,\n",
        "       limit_unchanged= 35,\n",
        "       X_train=X_train,\n",
        "       y_train=y_train,\n",
        "       k_folds = 5,\n",
        "       verbose=True)"
      ]
    },
    {
      "cell_type": "code",
      "execution_count": 12,
      "metadata": {
        "id": "QB3ENFPZrvVn",
        "colab": {
          "base_uri": "https://localhost:8080/"
        },
        "outputId": "ec61d9b8-dc79-4d16-8220-93bc6b1fb695"
      },
      "outputs": [
        {
          "output_type": "execute_result",
          "data": {
            "text/plain": [
              "[(45, 50, 3, 0.05, 0.85, 0.5, 0.05),\n",
              " (45, 50, 3, 0.05, 0.85, 0.5, 0.09),\n",
              " (45, 50, 3, 0.05, 0.95, 0.5, 0.05),\n",
              " (45, 50, 3, 0.05, 0.95, 0.5, 0.09),\n",
              " (45, 50, 3, 0.09, 0.85, 0.5, 0.05),\n",
              " (45, 50, 3, 0.09, 0.85, 0.5, 0.09),\n",
              " (45, 50, 3, 0.09, 0.95, 0.5, 0.05),\n",
              " (45, 50, 3, 0.09, 0.95, 0.5, 0.09)]"
            ]
          },
          "metadata": {},
          "execution_count": 12
        }
      ],
      "source": [
        "[hyper for hyper in regist]"
      ]
    },
    {
      "cell_type": "code",
      "execution_count": 13,
      "metadata": {
        "id": "i9Xpsy-WrvVo"
      },
      "outputs": [],
      "source": [
        "posible = [regist[hyper][1] for hyper in regist][0]"
      ]
    },
    {
      "cell_type": "code",
      "execution_count": 14,
      "metadata": {
        "id": "erPh_hDArvVo",
        "colab": {
          "base_uri": "https://localhost:8080/"
        },
        "outputId": "11464b38-3d34-4f1c-a554-2551c42ae89b"
      },
      "outputs": [
        {
          "output_type": "execute_result",
          "data": {
            "text/plain": [
              "[np.float64(0.732657596371882),\n",
              " np.float64(0.7322905419849566),\n",
              " np.float64(0.7360536520945022),\n",
              " np.float64(0.7360536520945022),\n",
              " np.float64(0.7357948298143919),\n",
              " np.float64(0.7326694906933936),\n",
              " np.float64(0.73458020257496),\n",
              " np.float64(0.734623619371283)]"
            ]
          },
          "metadata": {},
          "execution_count": 14
        }
      ],
      "source": [
        "[regist[hyper][0] for hyper in regist]"
      ]
    },
    {
      "cell_type": "code",
      "execution_count": 15,
      "metadata": {
        "id": "vS0fW5nprvVo",
        "colab": {
          "base_uri": "https://localhost:8080/"
        },
        "outputId": "8cbd37b0-c328-4540-f1e5-e99da39180ec"
      },
      "outputs": [
        {
          "output_type": "execute_result",
          "data": {
            "text/plain": [
              "np.int64(2)"
            ]
          },
          "metadata": {},
          "execution_count": 15
        }
      ],
      "source": [
        "np.array([regist[hyper][0] for hyper in regist]).argmax()"
      ]
    },
    {
      "cell_type": "code",
      "execution_count": 16,
      "metadata": {
        "id": "-Cw0_oRnrvVp"
      },
      "outputs": [],
      "source": [
        "fittest_  = [regist[hyper][1] for hyper in regist][np.array([regist[hyper][0] for hyper in regist]).argmax()]"
      ]
    },
    {
      "cell_type": "code",
      "source": [
        "X_test.isnull().sum()"
      ],
      "metadata": {
        "colab": {
          "base_uri": "https://localhost:8080/",
          "height": 993
        },
        "id": "_HGnZeqKma4U",
        "outputId": "346f707d-09af-40e7-fc41-06f0e9f48501"
      },
      "execution_count": 17,
      "outputs": [
        {
          "output_type": "execute_result",
          "data": {
            "text/plain": [
              "GPM         0\n",
              "NPM         0\n",
              "ROE         0\n",
              "ROA         0\n",
              "IR          0\n",
              "DER         0\n",
              "RSL         0\n",
              "CR          0\n",
              "Ax1         0\n",
              "Ax2         0\n",
              "Sector_B    0\n",
              "Sector_C    0\n",
              "Sector_D    0\n",
              "Sector_E    0\n",
              "Sector_F    0\n",
              "Sector_G    0\n",
              "Sector_H    0\n",
              "Sector_I    0\n",
              "Sector_J    0\n",
              "Sector_K    0\n",
              "Sector_L    0\n",
              "Sector_M    0\n",
              "Sector_N    0\n",
              "Sector_O    0\n",
              "Sector_P    0\n",
              "Sector_Q    0\n",
              "Sector_R    0\n",
              "Sector_S    0\n",
              "Sector_U    0\n",
              "dtype: int64"
            ],
            "text/html": [
              "<div>\n",
              "<style scoped>\n",
              "    .dataframe tbody tr th:only-of-type {\n",
              "        vertical-align: middle;\n",
              "    }\n",
              "\n",
              "    .dataframe tbody tr th {\n",
              "        vertical-align: top;\n",
              "    }\n",
              "\n",
              "    .dataframe thead th {\n",
              "        text-align: right;\n",
              "    }\n",
              "</style>\n",
              "<table border=\"1\" class=\"dataframe\">\n",
              "  <thead>\n",
              "    <tr style=\"text-align: right;\">\n",
              "      <th></th>\n",
              "      <th>0</th>\n",
              "    </tr>\n",
              "  </thead>\n",
              "  <tbody>\n",
              "    <tr>\n",
              "      <th>GPM</th>\n",
              "      <td>0</td>\n",
              "    </tr>\n",
              "    <tr>\n",
              "      <th>NPM</th>\n",
              "      <td>0</td>\n",
              "    </tr>\n",
              "    <tr>\n",
              "      <th>ROE</th>\n",
              "      <td>0</td>\n",
              "    </tr>\n",
              "    <tr>\n",
              "      <th>ROA</th>\n",
              "      <td>0</td>\n",
              "    </tr>\n",
              "    <tr>\n",
              "      <th>IR</th>\n",
              "      <td>0</td>\n",
              "    </tr>\n",
              "    <tr>\n",
              "      <th>DER</th>\n",
              "      <td>0</td>\n",
              "    </tr>\n",
              "    <tr>\n",
              "      <th>RSL</th>\n",
              "      <td>0</td>\n",
              "    </tr>\n",
              "    <tr>\n",
              "      <th>CR</th>\n",
              "      <td>0</td>\n",
              "    </tr>\n",
              "    <tr>\n",
              "      <th>Ax1</th>\n",
              "      <td>0</td>\n",
              "    </tr>\n",
              "    <tr>\n",
              "      <th>Ax2</th>\n",
              "      <td>0</td>\n",
              "    </tr>\n",
              "    <tr>\n",
              "      <th>Sector_B</th>\n",
              "      <td>0</td>\n",
              "    </tr>\n",
              "    <tr>\n",
              "      <th>Sector_C</th>\n",
              "      <td>0</td>\n",
              "    </tr>\n",
              "    <tr>\n",
              "      <th>Sector_D</th>\n",
              "      <td>0</td>\n",
              "    </tr>\n",
              "    <tr>\n",
              "      <th>Sector_E</th>\n",
              "      <td>0</td>\n",
              "    </tr>\n",
              "    <tr>\n",
              "      <th>Sector_F</th>\n",
              "      <td>0</td>\n",
              "    </tr>\n",
              "    <tr>\n",
              "      <th>Sector_G</th>\n",
              "      <td>0</td>\n",
              "    </tr>\n",
              "    <tr>\n",
              "      <th>Sector_H</th>\n",
              "      <td>0</td>\n",
              "    </tr>\n",
              "    <tr>\n",
              "      <th>Sector_I</th>\n",
              "      <td>0</td>\n",
              "    </tr>\n",
              "    <tr>\n",
              "      <th>Sector_J</th>\n",
              "      <td>0</td>\n",
              "    </tr>\n",
              "    <tr>\n",
              "      <th>Sector_K</th>\n",
              "      <td>0</td>\n",
              "    </tr>\n",
              "    <tr>\n",
              "      <th>Sector_L</th>\n",
              "      <td>0</td>\n",
              "    </tr>\n",
              "    <tr>\n",
              "      <th>Sector_M</th>\n",
              "      <td>0</td>\n",
              "    </tr>\n",
              "    <tr>\n",
              "      <th>Sector_N</th>\n",
              "      <td>0</td>\n",
              "    </tr>\n",
              "    <tr>\n",
              "      <th>Sector_O</th>\n",
              "      <td>0</td>\n",
              "    </tr>\n",
              "    <tr>\n",
              "      <th>Sector_P</th>\n",
              "      <td>0</td>\n",
              "    </tr>\n",
              "    <tr>\n",
              "      <th>Sector_Q</th>\n",
              "      <td>0</td>\n",
              "    </tr>\n",
              "    <tr>\n",
              "      <th>Sector_R</th>\n",
              "      <td>0</td>\n",
              "    </tr>\n",
              "    <tr>\n",
              "      <th>Sector_S</th>\n",
              "      <td>0</td>\n",
              "    </tr>\n",
              "    <tr>\n",
              "      <th>Sector_U</th>\n",
              "      <td>0</td>\n",
              "    </tr>\n",
              "  </tbody>\n",
              "</table>\n",
              "</div><br><label><b>dtype:</b> int64</label>"
            ]
          },
          "metadata": {},
          "execution_count": 17
        }
      ]
    },
    {
      "cell_type": "code",
      "execution_count": 18,
      "metadata": {
        "id": "RThX8UeFrvVp",
        "colab": {
          "base_uri": "https://localhost:8080/"
        },
        "outputId": "a0e00b1b-195c-42e4-a08c-1e80a56172d2"
      },
      "outputs": [
        {
          "output_type": "stream",
          "name": "stdout",
          "text": [
            "0.10149253731343283\n",
            "0.0960960960960961\n",
            "0.102\n",
            "0.10089020771513353\n",
            "0.098\n",
            "0.09889001009081735\n",
            "0.09578544061302682\n",
            "0.09596928982725528\n"
          ]
        }
      ],
      "source": [
        "for sol in regist:\n",
        "    print(PerformanceTest(solution = regist[sol][1],\n",
        "                          classifier = classifier,\n",
        "                          Xtrain=  X_train,\n",
        "                          ytrain = y_train,\n",
        "                          Xtest=  X_test,\n",
        "                          ytest = y_test))"
      ]
    },
    {
      "cell_type": "code",
      "execution_count": 19,
      "metadata": {
        "id": "27yDuY4brvVp",
        "colab": {
          "base_uri": "https://localhost:8080/"
        },
        "outputId": "d4ecf982-84e0-4bf4-a6be-b38d26414470"
      },
      "outputs": [
        {
          "output_type": "execute_result",
          "data": {
            "text/plain": [
              "0.10149253731343283"
            ]
          },
          "metadata": {},
          "execution_count": 19
        }
      ],
      "source": [
        "PerformanceTest(solution = posible,\n",
        "                          classifier = classifier,\n",
        "                          Xtrain=  X_train,\n",
        "                          ytrain = y_train,\n",
        "                          Xtest=  X_test,\n",
        "                          ytest = y_test)"
      ]
    },
    {
      "cell_type": "code",
      "execution_count": 20,
      "metadata": {
        "id": "GJuukXUFrvVp",
        "colab": {
          "base_uri": "https://localhost:8080/"
        },
        "outputId": "82f68a69-30ce-4f7d-bde3-d460b4f3c598"
      },
      "outputs": [
        {
          "output_type": "stream",
          "name": "stdout",
          "text": [
            "0.09560229445506692\n",
            "0.102\n",
            "0.0964824120603015\n",
            "0.08833922261484099\n"
          ]
        }
      ],
      "source": [
        "from sklearn.feature_selection import SequentialFeatureSelector\n",
        "from sklearn.metrics import classification_report\n",
        "\n",
        "# Forward Selection\n",
        "sfs = SequentialFeatureSelector(estimator=classifier, n_features_to_select='auto', cv=5)\n",
        "sfs.fit(X_train, y_train)\n",
        "forwardvar = sfs.get_support()\n",
        "sfs.get_feature_names_out()\n",
        "\n",
        "\n",
        "# Backward Selection\n",
        "sfs = SequentialFeatureSelector(estimator=classifier, n_features_to_select='auto', cv=5, direction='backward')\n",
        "sfs.fit(X_train, y_train)\n",
        "backwardvar = sfs.get_support()\n",
        "sfs.get_feature_names_out()\n",
        "X_train.columns[sfs.get_support()]\n",
        "\n",
        "\n",
        "all = [1 for x in X_train.columns]\n",
        "candidates = [all, fittest_, backwardvar, forwardvar]\n",
        "\n",
        "# This function assest the performance of the model in testing\n",
        "\n",
        "for candidate in candidates:\n",
        "    print(PerformanceTest(solution = candidate,\n",
        "                         classifier = classifier,\n",
        "                         Xtrain=  X_train,\n",
        "                         ytrain=  y_train,\n",
        "                         Xtest=  X_test,\n",
        "                         ytest = y_test))"
      ]
    },
    {
      "cell_type": "code",
      "execution_count": 21,
      "metadata": {
        "id": "Dn6fFa1crvVq",
        "colab": {
          "base_uri": "https://localhost:8080/"
        },
        "outputId": "4aa29590-9925-409d-d574-fa67913130b5"
      },
      "outputs": [
        {
          "output_type": "stream",
          "name": "stdout",
          "text": [
            "              precision    recall  f1-score   support\n",
            "\n",
            "         0.0       0.99      0.73      0.84      3296\n",
            "         1.0       0.05      0.80      0.10        64\n",
            "\n",
            "    accuracy                           0.73      3360\n",
            "   macro avg       0.52      0.76      0.47      3360\n",
            "weighted avg       0.98      0.73      0.83      3360\n",
            "\n"
          ]
        }
      ],
      "source": [
        "# Fittest\n",
        "vars = get_names(fittest_, X_train)\n",
        "classifier.fit(X_train.loc[:,vars], y_train)\n",
        "preds = classifier.predict( X_test.loc[:,vars ])\n",
        "print(classification_report(y_test, preds))\n",
        "selectGA  = pd.DataFrame(classification_report(y_test, preds , output_dict=True)).iloc[:,0:2]"
      ]
    },
    {
      "cell_type": "code",
      "execution_count": 22,
      "metadata": {
        "id": "WBBa-ESLrvVq",
        "colab": {
          "base_uri": "https://localhost:8080/"
        },
        "outputId": "5d391920-8f05-46cd-a277-d94ceab7a7c6"
      },
      "outputs": [
        {
          "output_type": "stream",
          "name": "stdout",
          "text": [
            "              precision    recall  f1-score   support\n",
            "\n",
            "         0.0       0.99      0.73      0.84      3296\n",
            "         1.0       0.05      0.78      0.10        64\n",
            "\n",
            "    accuracy                           0.73      3360\n",
            "   macro avg       0.52      0.76      0.47      3360\n",
            "weighted avg       0.98      0.73      0.83      3360\n",
            "\n"
          ]
        }
      ],
      "source": [
        "\n",
        "# Forward Selection\n",
        "sfs = SequentialFeatureSelector(estimator=classifier, n_features_to_select='auto', cv=2)\n",
        "sfs.fit(X_train, y_train)\n",
        "forwardvar = sfs.get_support()\n",
        "sfs.get_feature_names_out()\n",
        "classifier.fit(X_train.loc[:,forwardvar], y_train)\n",
        "preds_forward = classifier.predict(X_test.loc[:,forwardvar])\n",
        "print(classification_report(y_test, preds_forward))\n",
        "forward  = pd.DataFrame(classification_report(y_test, preds_forward , output_dict=True)).iloc[:,0:2]"
      ]
    },
    {
      "cell_type": "code",
      "execution_count": 23,
      "metadata": {
        "id": "_KvkpD37rvVq",
        "colab": {
          "base_uri": "https://localhost:8080/"
        },
        "outputId": "aa84ed14-9a14-4704-b157-eaae8c4c3d89"
      },
      "outputs": [
        {
          "output_type": "stream",
          "name": "stdout",
          "text": [
            "              precision    recall  f1-score   support\n",
            "\n",
            "         0.0       0.99      0.72      0.84      3296\n",
            "         1.0       0.05      0.75      0.09        64\n",
            "\n",
            "    accuracy                           0.72      3360\n",
            "   macro avg       0.52      0.74      0.47      3360\n",
            "weighted avg       0.98      0.72      0.82      3360\n",
            "\n"
          ]
        }
      ],
      "source": [
        "# Backward Selection\n",
        "sfs = SequentialFeatureSelector(estimator=classifier, n_features_to_select='auto', cv=2, direction='backward')\n",
        "sfs.fit(X_train, y_train)\n",
        "backwardvar = sfs.get_support()\n",
        "classifier.fit(X_train.loc[:,backwardvar], y_train)\n",
        "preds_backward = classifier.predict(X_test.loc[:,backwardvar])\n",
        "print(classification_report(y_test, preds_backward))\n",
        "backward  = pd.DataFrame(classification_report(y_test, preds_backward , output_dict=True)).iloc[:,0:2]\n"
      ]
    },
    {
      "cell_type": "code",
      "execution_count": 24,
      "metadata": {
        "id": "auoTr5BurvVq",
        "colab": {
          "base_uri": "https://localhost:8080/",
          "height": 206
        },
        "outputId": "794ad811-abe8-44dc-db40-c4d49cc05558"
      },
      "outputs": [
        {
          "output_type": "execute_result",
          "data": {
            "text/plain": [
              "<pandas.io.formats.style.Styler at 0x7953add97610>"
            ],
            "text/html": [
              "<style type=\"text/css\">\n",
              "#T_e8d13 th {\n",
              "  text-align: center;\n",
              "}\n",
              "</style>\n",
              "<table id=\"T_e8d13\" class=\"dataframe\">\n",
              "  <thead>\n",
              "    <tr>\n",
              "      <th class=\"blank level0\" >&nbsp;</th>\n",
              "      <th id=\"T_e8d13_level0_col0\" class=\"col_heading level0 col0\" colspan=\"2\">Genetic selection</th>\n",
              "      <th id=\"T_e8d13_level0_col2\" class=\"col_heading level0 col2\" colspan=\"2\">Forward selection</th>\n",
              "      <th id=\"T_e8d13_level0_col4\" class=\"col_heading level0 col4\" colspan=\"2\">Backward selection</th>\n",
              "    </tr>\n",
              "    <tr>\n",
              "      <th class=\"blank level1\" >&nbsp;</th>\n",
              "      <th id=\"T_e8d13_level1_col0\" class=\"col_heading level1 col0\" >No-Default</th>\n",
              "      <th id=\"T_e8d13_level1_col1\" class=\"col_heading level1 col1\" >Deafult</th>\n",
              "      <th id=\"T_e8d13_level1_col2\" class=\"col_heading level1 col2\" >No-Default</th>\n",
              "      <th id=\"T_e8d13_level1_col3\" class=\"col_heading level1 col3\" >Default</th>\n",
              "      <th id=\"T_e8d13_level1_col4\" class=\"col_heading level1 col4\" >No-Default</th>\n",
              "      <th id=\"T_e8d13_level1_col5\" class=\"col_heading level1 col5\" >Default</th>\n",
              "    </tr>\n",
              "  </thead>\n",
              "  <tbody>\n",
              "    <tr>\n",
              "      <th id=\"T_e8d13_level0_row0\" class=\"row_heading level0 row0\" >precision</th>\n",
              "      <td id=\"T_e8d13_row0_col0\" class=\"data row0 col0\" >0.99</td>\n",
              "      <td id=\"T_e8d13_row0_col1\" class=\"data row0 col1\" >0.05</td>\n",
              "      <td id=\"T_e8d13_row0_col2\" class=\"data row0 col2\" >0.99</td>\n",
              "      <td id=\"T_e8d13_row0_col3\" class=\"data row0 col3\" >0.05</td>\n",
              "      <td id=\"T_e8d13_row0_col4\" class=\"data row0 col4\" >0.99</td>\n",
              "      <td id=\"T_e8d13_row0_col5\" class=\"data row0 col5\" >0.05</td>\n",
              "    </tr>\n",
              "    <tr>\n",
              "      <th id=\"T_e8d13_level0_row1\" class=\"row_heading level0 row1\" >recall</th>\n",
              "      <td id=\"T_e8d13_row1_col0\" class=\"data row1 col0\" >0.73</td>\n",
              "      <td id=\"T_e8d13_row1_col1\" class=\"data row1 col1\" >0.80</td>\n",
              "      <td id=\"T_e8d13_row1_col2\" class=\"data row1 col2\" >0.73</td>\n",
              "      <td id=\"T_e8d13_row1_col3\" class=\"data row1 col3\" >0.78</td>\n",
              "      <td id=\"T_e8d13_row1_col4\" class=\"data row1 col4\" >0.72</td>\n",
              "      <td id=\"T_e8d13_row1_col5\" class=\"data row1 col5\" >0.75</td>\n",
              "    </tr>\n",
              "    <tr>\n",
              "      <th id=\"T_e8d13_level0_row2\" class=\"row_heading level0 row2\" >f1-score</th>\n",
              "      <td id=\"T_e8d13_row2_col0\" class=\"data row2 col0\" >0.84</td>\n",
              "      <td id=\"T_e8d13_row2_col1\" class=\"data row2 col1\" >0.10</td>\n",
              "      <td id=\"T_e8d13_row2_col2\" class=\"data row2 col2\" >0.84</td>\n",
              "      <td id=\"T_e8d13_row2_col3\" class=\"data row2 col3\" >0.10</td>\n",
              "      <td id=\"T_e8d13_row2_col4\" class=\"data row2 col4\" >0.84</td>\n",
              "      <td id=\"T_e8d13_row2_col5\" class=\"data row2 col5\" >0.09</td>\n",
              "    </tr>\n",
              "    <tr>\n",
              "      <th id=\"T_e8d13_level0_row3\" class=\"row_heading level0 row3\" >support</th>\n",
              "      <td id=\"T_e8d13_row3_col0\" class=\"data row3 col0\" >3296.00</td>\n",
              "      <td id=\"T_e8d13_row3_col1\" class=\"data row3 col1\" >64.00</td>\n",
              "      <td id=\"T_e8d13_row3_col2\" class=\"data row3 col2\" >3296.00</td>\n",
              "      <td id=\"T_e8d13_row3_col3\" class=\"data row3 col3\" >64.00</td>\n",
              "      <td id=\"T_e8d13_row3_col4\" class=\"data row3 col4\" >3296.00</td>\n",
              "      <td id=\"T_e8d13_row3_col5\" class=\"data row3 col5\" >64.00</td>\n",
              "    </tr>\n",
              "  </tbody>\n",
              "</table>\n"
            ]
          },
          "metadata": {},
          "execution_count": 24
        }
      ],
      "source": [
        "models_tab = pd.concat([selectGA, forward, backward], axis=1)\n",
        "cols_names =  pd.MultiIndex.from_tuples([('Genetic selection','No-Default'),(\"Genetic selection\",'Deafult'),\n",
        "              (\"Forward selection\",'No-Default'),('Forward selection','Default'),\n",
        "              (\"Backward selection\",'No-Default'),('Backward selection','Default')])\n",
        "models_tab.columns  = cols_names\n",
        "models_tab = models_tab.style.set_table_styles([\n",
        "   {'selector': 'th','props': [('text-align', 'center')]}]).format(precision=2)\n",
        "models_tab.to_latex(\"feature-selection-logistic.tex\")\n",
        "models_tab"
      ]
    },
    {
      "cell_type": "code",
      "execution_count": 25,
      "metadata": {
        "id": "aqGf5DOGrvVq",
        "colab": {
          "base_uri": "https://localhost:8080/"
        },
        "outputId": "17cf643f-f14f-43b7-9c4e-b33d8149d674"
      },
      "outputs": [
        {
          "output_type": "execute_result",
          "data": {
            "text/plain": [
              "Index(['ROE', 'ROA', 'IR', 'DER', 'RSL', 'CR', 'Sector_C', 'Sector_I',\n",
              "       'Sector_K', 'Sector_L', 'Sector_O', 'Sector_Q', 'Sector_R', 'Sector_U'],\n",
              "      dtype='object')"
            ]
          },
          "metadata": {},
          "execution_count": 25
        }
      ],
      "source": [
        "vars"
      ]
    },
    {
      "cell_type": "code",
      "execution_count": 26,
      "metadata": {
        "id": "4_QgR65ZrvVr",
        "colab": {
          "base_uri": "https://localhost:8080/"
        },
        "outputId": "e5434eb7-bfb9-4d92-ceac-b3d1eb4d0ca5"
      },
      "outputs": [
        {
          "output_type": "execute_result",
          "data": {
            "text/plain": [
              "Index(['ROE', 'ROA', 'IR', 'RSL', 'Ax1', 'Sector_C', 'Sector_D', 'Sector_F',\n",
              "       'Sector_H', 'Sector_I', 'Sector_J', 'Sector_O', 'Sector_R', 'Sector_U'],\n",
              "      dtype='object')"
            ]
          },
          "metadata": {},
          "execution_count": 26
        }
      ],
      "source": [
        "X_train.loc[:,forwardvar].columns"
      ]
    },
    {
      "cell_type": "code",
      "execution_count": 27,
      "metadata": {
        "id": "PGgjvlKmrvVr",
        "colab": {
          "base_uri": "https://localhost:8080/"
        },
        "outputId": "df4e60da-849d-41a3-f6ce-a0f347b389dd"
      },
      "outputs": [
        {
          "output_type": "execute_result",
          "data": {
            "text/plain": [
              "Index(['GPM', 'NPM', 'ROE', 'IR', 'DER', 'RSL', 'CR', 'Ax1', 'Ax2', 'Sector_C',\n",
              "       'Sector_F', 'Sector_G', 'Sector_J', 'Sector_P', 'Sector_U'],\n",
              "      dtype='object')"
            ]
          },
          "metadata": {},
          "execution_count": 27
        }
      ],
      "source": [
        "X_train.loc[:,backwardvar].columns"
      ]
    }
  ],
  "metadata": {
    "kernelspec": {
      "display_name": "Python 3",
      "language": "python",
      "name": "python3"
    },
    "language_info": {
      "codemirror_mode": {
        "name": "ipython",
        "version": 3
      },
      "file_extension": ".py",
      "mimetype": "text/x-python",
      "name": "python",
      "nbconvert_exporter": "python",
      "pygments_lexer": "ipython3",
      "version": "3.11.2"
    },
    "colab": {
      "provenance": [],
      "include_colab_link": true
    }
  },
  "nbformat": 4,
  "nbformat_minor": 0
}