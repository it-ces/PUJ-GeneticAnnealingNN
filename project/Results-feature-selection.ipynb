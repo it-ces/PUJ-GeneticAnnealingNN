{
  "cells": [
    {
      "cell_type": "markdown",
      "metadata": {
        "id": "view-in-github",
        "colab_type": "text"
      },
      "source": [
        "<a href=\"https://colab.research.google.com/github/it-ces/PUJ-GeneticAnnealingNN/blob/main/project/Results-feature-selection.ipynb\" target=\"_parent\"><img src=\"https://colab.research.google.com/assets/colab-badge.svg\" alt=\"Open In Colab\"/></a>"
      ]
    },
    {
      "cell_type": "code",
      "source": [
        "!git clone https://github.com/it-ces/PUJ-GeneticAnnealingNN.git"
      ],
      "metadata": {
        "id": "27eE0Abjr3Bz",
        "outputId": "bb6fd452-49fe-4d44-be90-d0df77f218e7",
        "colab": {
          "base_uri": "https://localhost:8080/"
        }
      },
      "execution_count": 28,
      "outputs": [
        {
          "output_type": "stream",
          "name": "stdout",
          "text": [
            "Cloning into 'PUJ-GeneticAnnealingNN'...\n",
            "remote: Enumerating objects: 58, done.\u001b[K\n",
            "remote: Counting objects: 100% (58/58), done.\u001b[K\n",
            "remote: Compressing objects: 100% (49/49), done.\u001b[K\n",
            "remote: Total 58 (delta 16), reused 42 (delta 8), pack-reused 0 (from 0)\u001b[K\n",
            "Receiving objects: 100% (58/58), 3.68 MiB | 11.70 MiB/s, done.\n",
            "Resolving deltas: 100% (16/16), done.\n"
          ]
        }
      ]
    },
    {
      "cell_type": "code",
      "source": [
        "!pip install deap"
      ],
      "metadata": {
        "id": "TLQ4wW8ZdmtT",
        "outputId": "b7dbf598-0a36-4c62-d9a9-9fa5d283e129",
        "colab": {
          "base_uri": "https://localhost:8080/"
        }
      },
      "execution_count": 29,
      "outputs": [
        {
          "output_type": "stream",
          "name": "stdout",
          "text": [
            "Requirement already satisfied: deap in /usr/local/lib/python3.11/dist-packages (1.4.3)\n",
            "Requirement already satisfied: numpy in /usr/local/lib/python3.11/dist-packages (from deap) (2.0.2)\n"
          ]
        }
      ]
    },
    {
      "cell_type": "code",
      "source": [
        "cd PUJ-GeneticAnnealingNN/project"
      ],
      "metadata": {
        "id": "Pxtc4vGtr4uZ",
        "outputId": "1ccaeacd-def7-409b-8843-f713414a9720",
        "colab": {
          "base_uri": "https://localhost:8080/"
        }
      },
      "execution_count": 30,
      "outputs": [
        {
          "output_type": "stream",
          "name": "stdout",
          "text": [
            "/content/PUJ-GeneticAnnealingNN/project/PUJ-GeneticAnnealingNN/project/PUJ-GeneticAnnealingNN/project/PUJ-GeneticAnnealingNN/project/PUJ-GeneticAnnealingNN/project/PUJ-GeneticAnnealingNN/project\n"
          ]
        }
      ]
    },
    {
      "cell_type": "code",
      "execution_count": 31,
      "metadata": {
        "id": "_Pters4lrvVl",
        "outputId": "af9e682e-b2cd-4030-a4c0-0b51185f0e9f",
        "colab": {
          "base_uri": "https://localhost:8080/",
          "height": 1000
        }
      },
      "outputs": [
        {
          "output_type": "stream",
          "name": "stdout",
          "text": [
            "<class 'pandas.core.frame.DataFrame'>\n",
            "Index: 771 entries, 4 to 26499\n",
            "Data columns (total 12 columns):\n",
            " #   Column                              Non-Null Count  Dtype  \n",
            "---  ------                              --------------  -----  \n",
            " 0   Ganancia bruta                      353 non-null    float64\n",
            " 1   Ganancia (pérdida)                  353 non-null    float64\n",
            " 2   Ingresos de actividades ordinarias  353 non-null    float64\n",
            " 3   Costo de ventas                     330 non-null    float64\n",
            " 4   Patrimonio total                    353 non-null    float64\n",
            " 5   Total pasivos                       353 non-null    float64\n",
            " 6   Total de activos                    353 non-null    float64\n",
            " 7   Ganancias acumuladas                351 non-null    float64\n",
            " 8   Pasivos corrientes totales          352 non-null    float64\n",
            " 9   Activos corrientes totales          353 non-null    float64\n",
            " 10  event                               771 non-null    float64\n",
            " 11  Sector                              771 non-null    object \n",
            "dtypes: float64(11), object(1)\n",
            "memory usage: 78.3+ KB\n",
            "None\n",
            "<class 'pandas.core.frame.DataFrame'>\n",
            "Index: 328 entries, 4 to 14903\n",
            "Data columns (total 13 columns):\n",
            " #   Column                              Non-Null Count  Dtype  \n",
            "---  ------                              --------------  -----  \n",
            " 0   Ganancia bruta                      328 non-null    float64\n",
            " 1   Ganancia (pérdida)                  328 non-null    float64\n",
            " 2   Ingresos de actividades ordinarias  328 non-null    float64\n",
            " 3   Costo de ventas                     328 non-null    float64\n",
            " 4   Patrimonio total                    328 non-null    float64\n",
            " 5   Total pasivos                       328 non-null    float64\n",
            " 6   Total de activos                    328 non-null    float64\n",
            " 7   Ganancias acumuladas                328 non-null    float64\n",
            " 8   Pasivos corrientes totales          328 non-null    float64\n",
            " 9   Activos corrientes totales          328 non-null    float64\n",
            " 10  event                               328 non-null    float64\n",
            " 11  Sector                              328 non-null    object \n",
            " 12  complete-vars                       328 non-null    float64\n",
            "dtypes: float64(12), object(1)\n",
            "memory usage: 35.9+ KB\n",
            "None\n",
            "<class 'pandas.core.frame.DataFrame'>\n",
            "Index: 328 entries, 4 to 14903\n",
            "Data columns (total 23 columns):\n",
            " #   Column                              Non-Null Count  Dtype  \n",
            "---  ------                              --------------  -----  \n",
            " 0   Ganancia bruta                      328 non-null    float64\n",
            " 1   Ganancia (pérdida)                  328 non-null    float64\n",
            " 2   Ingresos de actividades ordinarias  328 non-null    float64\n",
            " 3   Costo de ventas                     328 non-null    float64\n",
            " 4   Patrimonio total                    328 non-null    float64\n",
            " 5   Total pasivos                       328 non-null    float64\n",
            " 6   Total de activos                    328 non-null    float64\n",
            " 7   Ganancias acumuladas                328 non-null    float64\n",
            " 8   Pasivos corrientes totales          328 non-null    float64\n",
            " 9   Activos corrientes totales          328 non-null    float64\n",
            " 10  event                               328 non-null    float64\n",
            " 11  Sector                              328 non-null    object \n",
            " 12  complete-vars                       328 non-null    float64\n",
            " 13  DER                                 328 non-null    float64\n",
            " 14  CR                                  328 non-null    float64\n",
            " 15  GPM                                 320 non-null    float64\n",
            " 16  NPM                                 326 non-null    float64\n",
            " 17  ROE                                 328 non-null    float64\n",
            " 18  ROA                                 328 non-null    float64\n",
            " 19  IR                                  328 non-null    float64\n",
            " 20  RSL                                 327 non-null    float64\n",
            " 21  Ax1                                 328 non-null    float64\n",
            " 22  Ax2                                 328 non-null    float64\n",
            "dtypes: float64(22), object(1)\n",
            "memory usage: 61.5+ KB\n",
            "None\n"
          ]
        },
        {
          "output_type": "stream",
          "name": "stderr",
          "text": [
            "/usr/local/lib/python3.11/dist-packages/scipy/stats/_axis_nan_policy.py:586: UserWarning: scipy.stats.shapiro: For N > 5000, computed p-value may not be accurate. Current N is 16800.\n",
            "  res = hypotest_fun_out(*samples, **kwds)\n"
          ]
        },
        {
          "output_type": "error",
          "ename": "ImportError",
          "evalue": "cannot import name 'standardize_X_test' from 'preprocessing' (/content/PUJ-GeneticAnnealingNN/project/preprocessing.py)",
          "traceback": [
            "\u001b[0;31m---------------------------------------------------------------------------\u001b[0m",
            "\u001b[0;31mImportError\u001b[0m                               Traceback (most recent call last)",
            "\u001b[0;32m<ipython-input-31-50e62a170c39>\u001b[0m in \u001b[0;36m<cell line: 0>\u001b[0;34m()\u001b[0m\n\u001b[1;32m     45\u001b[0m \u001b[0mrus\u001b[0m \u001b[0;34m=\u001b[0m \u001b[0mRandomUnderSampler\u001b[0m\u001b[0;34m(\u001b[0m\u001b[0mrandom_state\u001b[0m\u001b[0;34m=\u001b[0m\u001b[0;36m123\u001b[0m\u001b[0;34m)\u001b[0m\u001b[0;34m\u001b[0m\u001b[0;34m\u001b[0m\u001b[0m\n\u001b[1;32m     46\u001b[0m \u001b[0mX_train\u001b[0m\u001b[0;34m,\u001b[0m \u001b[0my_train\u001b[0m \u001b[0;34m=\u001b[0m \u001b[0mrus\u001b[0m\u001b[0;34m.\u001b[0m\u001b[0mfit_resample\u001b[0m\u001b[0;34m(\u001b[0m\u001b[0mX_train\u001b[0m\u001b[0;34m,\u001b[0m \u001b[0my_train\u001b[0m\u001b[0;34m)\u001b[0m\u001b[0;34m\u001b[0m\u001b[0;34m\u001b[0m\u001b[0m\n\u001b[0;32m---> 47\u001b[0;31m \u001b[0;32mfrom\u001b[0m \u001b[0mpreprocessing\u001b[0m \u001b[0;32mimport\u001b[0m \u001b[0mstandardize_X_test\u001b[0m\u001b[0;34m\u001b[0m\u001b[0;34m\u001b[0m\u001b[0m\n\u001b[0m\u001b[1;32m     48\u001b[0m \u001b[0mX_test\u001b[0m \u001b[0;34m=\u001b[0m \u001b[0mstandardize_X_test\u001b[0m\u001b[0;34m(\u001b[0m\u001b[0mX_train\u001b[0m\u001b[0;34m,\u001b[0m \u001b[0mX_test\u001b[0m\u001b[0;34m)\u001b[0m \u001b[0;31m# Apply the mean and std of X_test with info from X_train\u001b[0m\u001b[0;34m\u001b[0m\u001b[0;34m\u001b[0m\u001b[0m\n\u001b[1;32m     49\u001b[0m \u001b[0mX_train\u001b[0m \u001b[0;34m=\u001b[0m \u001b[0mstd_z\u001b[0m\u001b[0;34m(\u001b[0m\u001b[0mnonormal\u001b[0m \u001b[0;34m+\u001b[0m \u001b[0mnormal\u001b[0m\u001b[0;34m,\u001b[0m \u001b[0mX_train\u001b[0m\u001b[0;34m)\u001b[0m\u001b[0;34m\u001b[0m\u001b[0;34m\u001b[0m\u001b[0m\n",
            "\u001b[0;31mImportError\u001b[0m: cannot import name 'standardize_X_test' from 'preprocessing' (/content/PUJ-GeneticAnnealingNN/project/preprocessing.py)",
            "",
            "\u001b[0;31m---------------------------------------------------------------------------\u001b[0;32m\nNOTE: If your import is failing due to a missing package, you can\nmanually install dependencies using either !pip or !apt.\n\nTo view examples of installing some common dependencies, click the\n\"Open Examples\" button below.\n\u001b[0;31m---------------------------------------------------------------------------\u001b[0m\n"
          ],
          "errorDetails": {
            "actions": [
              {
                "action": "open_url",
                "actionText": "Open Examples",
                "url": "/notebooks/snippets/importing_libraries.ipynb"
              }
            ]
          }
        }
      ],
      "source": [
        "# Results feature selection\n",
        "import pandas as pd\n",
        "import numpy as np\n",
        "from sklearn.model_selection import train_test_split\n",
        "from sklearn.linear_model import LogisticRegression\n",
        "from preprocessing import complete_vars\n",
        "from preprocessing import ratios\n",
        "from preprocessing import breakdown_vars\n",
        "from preprocessing import dummies_ohe\n",
        "from preprocessing import Xy\n",
        "from preprocessing import std_z\n",
        "from imblearn.under_sampling import RandomUnderSampler\n",
        "from Genfet import Geafet\n",
        "from gentools import PerformanceTest\n",
        "from gentools import get_names\n",
        "from ineq import Theil\n",
        "from gentools import PerformanceTest\n",
        "from gentools import get_names\n",
        "\n",
        "df_train = pd.read_csv(\"Datapooled.csv\")\n",
        "\n",
        "VARS = ['Ganancia bruta', 'Ganancia (pérdida)','Ingresos de actividades ordinarias' , 'Costo de ventas', 'Patrimonio total',\n",
        "     'Total pasivos', 'Total de activos', 'Ganancias acumuladas',  'Pasivos corrientes totales',  'Activos corrientes totales']\n",
        "\n",
        "df_train.rename(columns={'Clasificación Industrial Internacional Uniforme Versión 4 A.C':'Sector'}, inplace=True)\n",
        "\n",
        "df_train = df_train[VARS+[ 'event', 'Sector']]\n",
        "print(df_train[df_train['event']==1].info())\n",
        "df_train['complete-vars'] = complete_vars(df_train) #1 is that have all variables!\n",
        "df_train =  df_train[df_train['complete-vars']==1] #filtering firms that have not financial information\n",
        "print(df_train[df_train['event']==1].info())\n",
        "df_train = ratios(df_train)\n",
        "predictors =[ 'GPM', 'NPM', 'ROE','ROA', 'IR', 'DER', 'RSL', 'CR', 'Ax1', 'Ax2', 'Sector']\n",
        "print(df_train[df_train['event']==1].info())\n",
        "df_train.replace([np.inf,-np.inf], np.nan, inplace=True)\n",
        "df_train.dropna(inplace=True)\n",
        "df_train.drop(columns=['complete-vars'], inplace=True)\n",
        "df_train = df_train[predictors + ['event']].copy()\n",
        "df_exp = df_train.copy()\n",
        "X, y = Xy(df_train, 'event')\n",
        "cat,  nonormal, normal  = breakdown_vars(X)\n",
        "nums = nonormal + normal\n",
        "X = dummies_ohe(X, cat)\n",
        "X_train, X_test, y_train, y_test = train_test_split(X, y, test_size=0.2, shuffle = True, random_state = 666, stratify=y)\n",
        "rus = RandomUnderSampler(random_state=123)\n",
        "X_train, y_train = rus.fit_resample(X_train, y_train)\n",
        "from preprocessing import standardize_X_test\n",
        "X_test = standardize_X_test(X_train, X_test) # Apply the mean and std of X_test with info from X_train\n",
        "X_train = std_z(nonormal + normal, X_train)"
      ]
    },
    {
      "cell_type": "code",
      "execution_count": null,
      "metadata": {
        "id": "40kLV4tgrvVn"
      },
      "outputs": [],
      "source": [
        "classifier = LogisticRegression(penalty=None, max_iter=1500, random_state=666)\n",
        "\n",
        "Pop_sizes  = [45] # 45\n",
        "generations = [50]\n",
        "Mutations = [0.05, 0.09]\n",
        "Tournaments = [3]\n",
        "Cross = [0.85, 0.95]\n",
        "probs_mate = [0.5]\n",
        "probs_mutate = [0.05 , 0.09]\n",
        "regist= Geafet(\n",
        "       pop_sizes = Pop_sizes,\n",
        "       generations = generations,\n",
        "       mutations = Mutations,\n",
        "       tournaments_sizes = Tournaments,\n",
        "       crossovers=Cross,\n",
        "       mate_indpb = probs_mate,\n",
        "       mutate_indpb = probs_mutate,\n",
        "       classifier = classifier,\n",
        "       ineq_measure = Theil,\n",
        "       ineq_min  = 0,\n",
        "       limit_unchanged= 35,\n",
        "       X_train=X_train,\n",
        "       y_train=y_train,\n",
        "       k_folds = 5,\n",
        "       verbose=True)"
      ]
    },
    {
      "cell_type": "code",
      "execution_count": null,
      "metadata": {
        "id": "QB3ENFPZrvVn"
      },
      "outputs": [],
      "source": [
        "[hyper for hyper in regist]"
      ]
    },
    {
      "cell_type": "code",
      "execution_count": null,
      "metadata": {
        "id": "i9Xpsy-WrvVo"
      },
      "outputs": [],
      "source": [
        "posible = [regist[hyper][1] for hyper in regist][0]"
      ]
    },
    {
      "cell_type": "code",
      "execution_count": null,
      "metadata": {
        "id": "erPh_hDArvVo"
      },
      "outputs": [],
      "source": [
        "[regist[hyper][0] for hyper in regist]"
      ]
    },
    {
      "cell_type": "code",
      "execution_count": null,
      "metadata": {
        "id": "vS0fW5nprvVo"
      },
      "outputs": [],
      "source": [
        "np.array([regist[hyper][0] for hyper in regist]).argmax()"
      ]
    },
    {
      "cell_type": "code",
      "execution_count": null,
      "metadata": {
        "id": "-Cw0_oRnrvVp"
      },
      "outputs": [],
      "source": [
        "fittest_  = [regist[hyper][1] for hyper in regist][np.array([regist[hyper][0] for hyper in regist]).argmax()]"
      ]
    },
    {
      "cell_type": "code",
      "execution_count": null,
      "metadata": {
        "id": "RThX8UeFrvVp"
      },
      "outputs": [],
      "source": [
        "for sol in regist:\n",
        "    print(PerformanceTest(solution = regist[sol][1],\n",
        "                          classifier = classifier,\n",
        "                          Xtrain=  X_train,\n",
        "                          ytrain = y_train,\n",
        "                          Xtest=  X_test,\n",
        "                          ytest = y_test))"
      ]
    },
    {
      "cell_type": "code",
      "execution_count": null,
      "metadata": {
        "id": "27yDuY4brvVp"
      },
      "outputs": [],
      "source": [
        "PerformanceTest(solution = posible,\n",
        "                          classifier = classifier,\n",
        "                          Xtrain=  X_train,\n",
        "                          ytrain = y_train,\n",
        "                          Xtest=  X_test,\n",
        "                          ytest = y_test)"
      ]
    },
    {
      "cell_type": "code",
      "execution_count": null,
      "metadata": {
        "id": "GJuukXUFrvVp"
      },
      "outputs": [],
      "source": [
        "from sklearn.feature_selection import SequentialFeatureSelector\n",
        "from sklearn.metrics import classification_report\n",
        "\n",
        "# Forward Selection\n",
        "sfs = SequentialFeatureSelector(estimator=classifier, n_features_to_select='auto', cv=5)\n",
        "sfs.fit(X_train, y_train)\n",
        "forwardvar = sfs.get_support()\n",
        "sfs.get_feature_names_out()\n",
        "\n",
        "\n",
        "# Backward Selection\n",
        "sfs = SequentialFeatureSelector(estimator=classifier, n_features_to_select='auto', cv=5, direction='backward')\n",
        "sfs.fit(X_train, y_train)\n",
        "backwardvar = sfs.get_support()\n",
        "sfs.get_feature_names_out()\n",
        "X_train.columns[sfs.get_support()]\n",
        "\n",
        "\n",
        "all = [1 for x in X_train.columns]\n",
        "candidates = [all, fittest_, backwardvar, forwardvar]\n",
        "\n",
        "# This function assest the performance of the model in testing\n",
        "\n",
        "for candidate in candidates:\n",
        "    print(PerformanceTest(solution = candidate,\n",
        "                         classifier = classifier,\n",
        "                         Xtrain=  X_train,\n",
        "                         ytrain=  y_train,\n",
        "                         Xtest=  X_test,\n",
        "                         ytest = y_test))"
      ]
    },
    {
      "cell_type": "code",
      "execution_count": null,
      "metadata": {
        "id": "Dn6fFa1crvVq"
      },
      "outputs": [],
      "source": [
        "# Fittest\n",
        "vars = get_names(fittest_, X_train)\n",
        "classifier.fit(X_train.loc[:,vars], y_train)\n",
        "preds = classifier.predict( X_test.loc[:,vars ])\n",
        "print(classification_report(y_test, preds))\n",
        "selectGA  = pd.DataFrame(classification_report(y_test, preds , output_dict=True)).iloc[:,0:2]"
      ]
    },
    {
      "cell_type": "code",
      "execution_count": null,
      "metadata": {
        "id": "WBBa-ESLrvVq"
      },
      "outputs": [],
      "source": [
        "\n",
        "# Forward Selection\n",
        "sfs = SequentialFeatureSelector(estimator=classifier, n_features_to_select='auto', cv=2)\n",
        "sfs.fit(X_train, y_train)\n",
        "forwardvar = sfs.get_support()\n",
        "sfs.get_feature_names_out()\n",
        "classifier.fit(X_train.loc[:,forwardvar], y_train)\n",
        "preds_forward = classifier.predict(X_test.loc[:,forwardvar])\n",
        "print(classification_report(y_test, preds_forward))\n",
        "forward  = pd.DataFrame(classification_report(y_test, preds_forward , output_dict=True)).iloc[:,0:2]"
      ]
    },
    {
      "cell_type": "code",
      "execution_count": null,
      "metadata": {
        "id": "_KvkpD37rvVq"
      },
      "outputs": [],
      "source": [
        "# Backward Selection\n",
        "sfs = SequentialFeatureSelector(estimator=classifier, n_features_to_select='auto', cv=2, direction='backward')\n",
        "sfs.fit(X_train, y_train)\n",
        "backwardvar = sfs.get_support()\n",
        "classifier.fit(X_train.loc[:,backwardvar], y_train)\n",
        "preds_backward = classifier.predict(X_test.loc[:,backwardvar])\n",
        "print(classification_report(y_test, preds_backward))\n",
        "backward  = pd.DataFrame(classification_report(y_test, preds_backward , output_dict=True)).iloc[:,0:2]\n"
      ]
    },
    {
      "cell_type": "code",
      "execution_count": null,
      "metadata": {
        "id": "auoTr5BurvVq"
      },
      "outputs": [],
      "source": [
        "models_tab = pd.concat([selectGA, forward, backward], axis=1)\n",
        "cols_names =  pd.MultiIndex.from_tuples([('Genetic selection','No-Default'),(\"Genetic selection\",'Deafult'),\n",
        "              (\"Forward selection\",'No-Default'),('Forward selection','Default'),\n",
        "              (\"Backward selection\",'No-Default'),('Backward selection','Default')])\n",
        "models_tab.columns  = cols_names\n",
        "models_tab = models_tab.style.set_table_styles([\n",
        "   {'selector': 'th','props': [('text-align', 'center')]}]).format(precision=2)\n",
        "models_tab.to_latex(\"feature-selection-logistic.tex\")\n",
        "models_tab"
      ]
    },
    {
      "cell_type": "code",
      "execution_count": null,
      "metadata": {
        "id": "aqGf5DOGrvVq"
      },
      "outputs": [],
      "source": [
        "vars"
      ]
    },
    {
      "cell_type": "code",
      "execution_count": null,
      "metadata": {
        "id": "4_QgR65ZrvVr"
      },
      "outputs": [],
      "source": [
        "X_train.loc[:,forwardvar].columns"
      ]
    },
    {
      "cell_type": "code",
      "execution_count": null,
      "metadata": {
        "id": "PGgjvlKmrvVr"
      },
      "outputs": [],
      "source": [
        "X_train.loc[:,backwardvar].columns"
      ]
    }
  ],
  "metadata": {
    "kernelspec": {
      "display_name": "Python 3",
      "language": "python",
      "name": "python3"
    },
    "language_info": {
      "codemirror_mode": {
        "name": "ipython",
        "version": 3
      },
      "file_extension": ".py",
      "mimetype": "text/x-python",
      "name": "python",
      "nbconvert_exporter": "python",
      "pygments_lexer": "ipython3",
      "version": "3.11.2"
    },
    "colab": {
      "provenance": [],
      "include_colab_link": true
    }
  },
  "nbformat": 4,
  "nbformat_minor": 0
}